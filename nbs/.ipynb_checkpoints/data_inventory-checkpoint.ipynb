{
 "cells": [
  {
   "cell_type": "code",
   "execution_count": 1,
   "metadata": {},
   "outputs": [],
   "source": [
    "import pandas as pd"
   ]
  },
  {
   "cell_type": "code",
   "execution_count": 2,
   "metadata": {},
   "outputs": [],
   "source": [
    "data = pd.read_csv(\"../data/water_cleaned.txt\", delimiter=\"\\t\")"
   ]
  },
  {
   "cell_type": "code",
   "execution_count": 3,
   "metadata": {},
   "outputs": [
    {
     "data": {
      "text/html": [
       "<div>\n",
       "<style scoped>\n",
       "    .dataframe tbody tr th:only-of-type {\n",
       "        vertical-align: middle;\n",
       "    }\n",
       "\n",
       "    .dataframe tbody tr th {\n",
       "        vertical-align: top;\n",
       "    }\n",
       "\n",
       "    .dataframe thead th {\n",
       "        text-align: right;\n",
       "    }\n",
       "</style>\n",
       "<table border=\"1\" class=\"dataframe\">\n",
       "  <thead>\n",
       "    <tr style=\"text-align: right;\">\n",
       "      <th></th>\n",
       "      <th>metabolite</th>\n",
       "      <th>uloq</th>\n",
       "      <th>lloq</th>\n",
       "      <th>value</th>\n",
       "      <th>date</th>\n",
       "      <th>time_pretty</th>\n",
       "      <th>location</th>\n",
       "      <th>below_lloq</th>\n",
       "      <th>above_uloq</th>\n",
       "      <th>extraction</th>\n",
       "      <th>machine</th>\n",
       "    </tr>\n",
       "  </thead>\n",
       "  <tbody>\n",
       "    <tr>\n",
       "      <th>0</th>\n",
       "      <td>6-MAM</td>\n",
       "      <td>5.0</td>\n",
       "      <td>0.05</td>\n",
       "      <td>NaN</td>\n",
       "      <td>FB08SEP18</td>\n",
       "      <td>6:30</td>\n",
       "      <td>1</td>\n",
       "      <td>NaN</td>\n",
       "      <td>NaN</td>\n",
       "      <td>austin</td>\n",
       "      <td>shimadzu</td>\n",
       "    </tr>\n",
       "    <tr>\n",
       "      <th>1</th>\n",
       "      <td>7-Aminoclonazepam</td>\n",
       "      <td>5.0</td>\n",
       "      <td>0.05</td>\n",
       "      <td>0.134</td>\n",
       "      <td>FB08SEP18</td>\n",
       "      <td>6:30</td>\n",
       "      <td>1</td>\n",
       "      <td>0.0</td>\n",
       "      <td>0.0</td>\n",
       "      <td>austin</td>\n",
       "      <td>shimadzu</td>\n",
       "    </tr>\n",
       "    <tr>\n",
       "      <th>2</th>\n",
       "      <td>7-Aminoflunitrazepam</td>\n",
       "      <td>5.0</td>\n",
       "      <td>0.05</td>\n",
       "      <td>NaN</td>\n",
       "      <td>FB08SEP18</td>\n",
       "      <td>6:30</td>\n",
       "      <td>1</td>\n",
       "      <td>NaN</td>\n",
       "      <td>NaN</td>\n",
       "      <td>austin</td>\n",
       "      <td>shimadzu</td>\n",
       "    </tr>\n",
       "    <tr>\n",
       "      <th>3</th>\n",
       "      <td>α-Hydroxyalprazolam</td>\n",
       "      <td>20.0</td>\n",
       "      <td>0.05</td>\n",
       "      <td>NaN</td>\n",
       "      <td>FB08SEP18</td>\n",
       "      <td>6:30</td>\n",
       "      <td>1</td>\n",
       "      <td>NaN</td>\n",
       "      <td>NaN</td>\n",
       "      <td>austin</td>\n",
       "      <td>shimadzu</td>\n",
       "    </tr>\n",
       "    <tr>\n",
       "      <th>4</th>\n",
       "      <td>α-Hydroxytriazolam</td>\n",
       "      <td>20.0</td>\n",
       "      <td>0.05</td>\n",
       "      <td>NaN</td>\n",
       "      <td>FB08SEP18</td>\n",
       "      <td>6:30</td>\n",
       "      <td>1</td>\n",
       "      <td>NaN</td>\n",
       "      <td>NaN</td>\n",
       "      <td>austin</td>\n",
       "      <td>shimadzu</td>\n",
       "    </tr>\n",
       "    <tr>\n",
       "      <th>...</th>\n",
       "      <td>...</td>\n",
       "      <td>...</td>\n",
       "      <td>...</td>\n",
       "      <td>...</td>\n",
       "      <td>...</td>\n",
       "      <td>...</td>\n",
       "      <td>...</td>\n",
       "      <td>...</td>\n",
       "      <td>...</td>\n",
       "      <td>...</td>\n",
       "      <td>...</td>\n",
       "    </tr>\n",
       "    <tr>\n",
       "      <th>5539</th>\n",
       "      <td>Temazepam</td>\n",
       "      <td>20.0</td>\n",
       "      <td>0.05</td>\n",
       "      <td>NaN</td>\n",
       "      <td>FB08SEP18</td>\n",
       "      <td>11:30</td>\n",
       "      <td>3</td>\n",
       "      <td>NaN</td>\n",
       "      <td>NaN</td>\n",
       "      <td>zach</td>\n",
       "      <td>waters</td>\n",
       "    </tr>\n",
       "    <tr>\n",
       "      <th>5540</th>\n",
       "      <td>Tramadol</td>\n",
       "      <td>20.0</td>\n",
       "      <td>0.05</td>\n",
       "      <td>0.980</td>\n",
       "      <td>FB08SEP18</td>\n",
       "      <td>11:30</td>\n",
       "      <td>3</td>\n",
       "      <td>0.0</td>\n",
       "      <td>0.0</td>\n",
       "      <td>zach</td>\n",
       "      <td>waters</td>\n",
       "    </tr>\n",
       "    <tr>\n",
       "      <th>5541</th>\n",
       "      <td>Trazodone</td>\n",
       "      <td>20.0</td>\n",
       "      <td>0.50</td>\n",
       "      <td>0.090</td>\n",
       "      <td>FB08SEP18</td>\n",
       "      <td>11:30</td>\n",
       "      <td>3</td>\n",
       "      <td>1.0</td>\n",
       "      <td>0.0</td>\n",
       "      <td>zach</td>\n",
       "      <td>waters</td>\n",
       "    </tr>\n",
       "    <tr>\n",
       "      <th>5542</th>\n",
       "      <td>Triazolam</td>\n",
       "      <td>20.0</td>\n",
       "      <td>0.50</td>\n",
       "      <td>NaN</td>\n",
       "      <td>FB08SEP18</td>\n",
       "      <td>11:30</td>\n",
       "      <td>3</td>\n",
       "      <td>NaN</td>\n",
       "      <td>NaN</td>\n",
       "      <td>zach</td>\n",
       "      <td>waters</td>\n",
       "    </tr>\n",
       "    <tr>\n",
       "      <th>5543</th>\n",
       "      <td>Zolpidem</td>\n",
       "      <td>20.0</td>\n",
       "      <td>0.50</td>\n",
       "      <td>NaN</td>\n",
       "      <td>FB08SEP18</td>\n",
       "      <td>11:30</td>\n",
       "      <td>3</td>\n",
       "      <td>NaN</td>\n",
       "      <td>NaN</td>\n",
       "      <td>zach</td>\n",
       "      <td>waters</td>\n",
       "    </tr>\n",
       "  </tbody>\n",
       "</table>\n",
       "<p>5544 rows × 11 columns</p>\n",
       "</div>"
      ],
      "text/plain": [
       "                metabolite  uloq  lloq  value       date time_pretty  \\\n",
       "0                    6-MAM   5.0  0.05    NaN  FB08SEP18        6:30   \n",
       "1        7-Aminoclonazepam   5.0  0.05  0.134  FB08SEP18        6:30   \n",
       "2     7-Aminoflunitrazepam   5.0  0.05    NaN  FB08SEP18        6:30   \n",
       "3      α-Hydroxyalprazolam  20.0  0.05    NaN  FB08SEP18        6:30   \n",
       "4       α-Hydroxytriazolam  20.0  0.05    NaN  FB08SEP18        6:30   \n",
       "...                    ...   ...   ...    ...        ...         ...   \n",
       "5539             Temazepam  20.0  0.05    NaN  FB08SEP18       11:30   \n",
       "5540              Tramadol  20.0  0.05  0.980  FB08SEP18       11:30   \n",
       "5541             Trazodone  20.0  0.50  0.090  FB08SEP18       11:30   \n",
       "5542             Triazolam  20.0  0.50    NaN  FB08SEP18       11:30   \n",
       "5543              Zolpidem  20.0  0.50    NaN  FB08SEP18       11:30   \n",
       "\n",
       "      location  below_lloq  above_uloq extraction   machine  \n",
       "0            1         NaN         NaN     austin  shimadzu  \n",
       "1            1         0.0         0.0     austin  shimadzu  \n",
       "2            1         NaN         NaN     austin  shimadzu  \n",
       "3            1         NaN         NaN     austin  shimadzu  \n",
       "4            1         NaN         NaN     austin  shimadzu  \n",
       "...        ...         ...         ...        ...       ...  \n",
       "5539         3         NaN         NaN       zach    waters  \n",
       "5540         3         0.0         0.0       zach    waters  \n",
       "5541         3         1.0         0.0       zach    waters  \n",
       "5542         3         NaN         NaN       zach    waters  \n",
       "5543         3         NaN         NaN       zach    waters  \n",
       "\n",
       "[5544 rows x 11 columns]"
      ]
     },
     "execution_count": 3,
     "metadata": {},
     "output_type": "execute_result"
    }
   ],
   "source": [
    "data"
   ]
  },
  {
   "cell_type": "code",
   "execution_count": 6,
   "metadata": {},
   "outputs": [
    {
     "data": {
      "text/plain": [
       "1       7-Aminoclonazepam\n",
       "6             Amphetamine\n",
       "7         Benzoylecgonine\n",
       "20            Hydrocodone\n",
       "38         Norhydrocodone\n",
       "              ...        \n",
       "5528         Noroxycodone\n",
       "5534          Phentermine\n",
       "5536      Pseudoephedrine\n",
       "5540             Tramadol\n",
       "5541            Trazodone\n",
       "Name: metabolite, Length: 856, dtype: object"
      ]
     },
     "execution_count": 6,
     "metadata": {},
     "output_type": "execute_result"
    }
   ],
   "source": [
    "data[pd.notnull(data.value)]"
   ]
  },
  {
   "cell_type": "markdown",
   "metadata": {},
   "source": [
    "## Venn Diagram Information"
   ]
  },
  {
   "cell_type": "code",
   "execution_count": 8,
   "metadata": {},
   "outputs": [],
   "source": [
    "metabolites_set = set(data[pd.notnull(data.value)].metabolite)"
   ]
  },
  {
   "cell_type": "code",
   "execution_count": 9,
   "metadata": {},
   "outputs": [
    {
     "data": {
      "text/plain": [
       "{'7-Aminoclonazepam',\n",
       " 'Amphetamine',\n",
       " 'Benzoylecgonine',\n",
       " 'Cocaine',\n",
       " 'Codeine',\n",
       " 'Cyclobenzaprine',\n",
       " 'EDDP',\n",
       " 'Hydrocodone',\n",
       " 'Hydromorphone',\n",
       " 'Ketamine',\n",
       " 'MDMA',\n",
       " 'Meprobamate',\n",
       " 'Methadone',\n",
       " 'Methamphetamine',\n",
       " 'Methylphenidate',\n",
       " 'Morphine',\n",
       " 'Norbuprenorphine',\n",
       " 'Norhydrocodone',\n",
       " 'Noroxycodone',\n",
       " 'O-Desmethyltramadol',\n",
       " 'Oxazepam',\n",
       " 'Oxycodone',\n",
       " 'Oxymorphone',\n",
       " 'Phentermine',\n",
       " 'Pseudoephedrine',\n",
       " 'Tapentadol',\n",
       " 'Temazepam',\n",
       " 'Tramadol',\n",
       " 'Trazodone'}"
      ]
     },
     "execution_count": 9,
     "metadata": {},
     "output_type": "execute_result"
    }
   ],
   "source": [
    "metabolites_set"
   ]
  },
  {
   "cell_type": "code",
   "execution_count": 11,
   "metadata": {},
   "outputs": [
    {
     "data": {
      "text/html": [
       "<div>\n",
       "<style scoped>\n",
       "    .dataframe tbody tr th:only-of-type {\n",
       "        vertical-align: middle;\n",
       "    }\n",
       "\n",
       "    .dataframe tbody tr th {\n",
       "        vertical-align: top;\n",
       "    }\n",
       "\n",
       "    .dataframe thead th {\n",
       "        text-align: right;\n",
       "    }\n",
       "</style>\n",
       "<table border=\"1\" class=\"dataframe\">\n",
       "  <thead>\n",
       "    <tr style=\"text-align: right;\">\n",
       "      <th></th>\n",
       "      <th>metabolite</th>\n",
       "      <th>uloq</th>\n",
       "      <th>lloq</th>\n",
       "      <th>value</th>\n",
       "      <th>date</th>\n",
       "      <th>time_pretty</th>\n",
       "      <th>location</th>\n",
       "      <th>below_lloq</th>\n",
       "      <th>above_uloq</th>\n",
       "      <th>extraction</th>\n",
       "      <th>machine</th>\n",
       "    </tr>\n",
       "  </thead>\n",
       "  <tbody>\n",
       "    <tr>\n",
       "      <th>1</th>\n",
       "      <td>7-Aminoclonazepam</td>\n",
       "      <td>5.0</td>\n",
       "      <td>0.05</td>\n",
       "      <td>0.134</td>\n",
       "      <td>FB08SEP18</td>\n",
       "      <td>6:30</td>\n",
       "      <td>1</td>\n",
       "      <td>0.0</td>\n",
       "      <td>0.0</td>\n",
       "      <td>austin</td>\n",
       "      <td>shimadzu</td>\n",
       "    </tr>\n",
       "    <tr>\n",
       "      <th>6</th>\n",
       "      <td>Amphetamine</td>\n",
       "      <td>5.0</td>\n",
       "      <td>0.05</td>\n",
       "      <td>0.322</td>\n",
       "      <td>FB08SEP18</td>\n",
       "      <td>6:30</td>\n",
       "      <td>1</td>\n",
       "      <td>0.0</td>\n",
       "      <td>0.0</td>\n",
       "      <td>austin</td>\n",
       "      <td>shimadzu</td>\n",
       "    </tr>\n",
       "    <tr>\n",
       "      <th>7</th>\n",
       "      <td>Benzoylecgonine</td>\n",
       "      <td>20.0</td>\n",
       "      <td>0.05</td>\n",
       "      <td>1.307</td>\n",
       "      <td>FB08SEP18</td>\n",
       "      <td>6:30</td>\n",
       "      <td>1</td>\n",
       "      <td>0.0</td>\n",
       "      <td>0.0</td>\n",
       "      <td>austin</td>\n",
       "      <td>shimadzu</td>\n",
       "    </tr>\n",
       "    <tr>\n",
       "      <th>20</th>\n",
       "      <td>Hydrocodone</td>\n",
       "      <td>2.5</td>\n",
       "      <td>0.05</td>\n",
       "      <td>0.368</td>\n",
       "      <td>FB08SEP18</td>\n",
       "      <td>6:30</td>\n",
       "      <td>1</td>\n",
       "      <td>0.0</td>\n",
       "      <td>0.0</td>\n",
       "      <td>austin</td>\n",
       "      <td>shimadzu</td>\n",
       "    </tr>\n",
       "    <tr>\n",
       "      <th>38</th>\n",
       "      <td>Norhydrocodone</td>\n",
       "      <td>5.0</td>\n",
       "      <td>0.05</td>\n",
       "      <td>0.231</td>\n",
       "      <td>FB08SEP18</td>\n",
       "      <td>6:30</td>\n",
       "      <td>1</td>\n",
       "      <td>0.0</td>\n",
       "      <td>0.0</td>\n",
       "      <td>austin</td>\n",
       "      <td>shimadzu</td>\n",
       "    </tr>\n",
       "    <tr>\n",
       "      <th>...</th>\n",
       "      <td>...</td>\n",
       "      <td>...</td>\n",
       "      <td>...</td>\n",
       "      <td>...</td>\n",
       "      <td>...</td>\n",
       "      <td>...</td>\n",
       "      <td>...</td>\n",
       "      <td>...</td>\n",
       "      <td>...</td>\n",
       "      <td>...</td>\n",
       "      <td>...</td>\n",
       "    </tr>\n",
       "    <tr>\n",
       "      <th>5382</th>\n",
       "      <td>Amphetamine</td>\n",
       "      <td>5.0</td>\n",
       "      <td>0.05</td>\n",
       "      <td>0.484</td>\n",
       "      <td>FB08SEP18</td>\n",
       "      <td>11:30</td>\n",
       "      <td>3</td>\n",
       "      <td>0.0</td>\n",
       "      <td>0.0</td>\n",
       "      <td>austin</td>\n",
       "      <td>shimadzu</td>\n",
       "    </tr>\n",
       "    <tr>\n",
       "      <th>5383</th>\n",
       "      <td>Benzoylecgonine</td>\n",
       "      <td>20.0</td>\n",
       "      <td>0.05</td>\n",
       "      <td>0.349</td>\n",
       "      <td>FB08SEP18</td>\n",
       "      <td>11:30</td>\n",
       "      <td>3</td>\n",
       "      <td>0.0</td>\n",
       "      <td>0.0</td>\n",
       "      <td>austin</td>\n",
       "      <td>shimadzu</td>\n",
       "    </tr>\n",
       "    <tr>\n",
       "      <th>5416</th>\n",
       "      <td>Noroxycodone</td>\n",
       "      <td>5.0</td>\n",
       "      <td>0.05</td>\n",
       "      <td>0.292</td>\n",
       "      <td>FB08SEP18</td>\n",
       "      <td>11:30</td>\n",
       "      <td>3</td>\n",
       "      <td>0.0</td>\n",
       "      <td>0.0</td>\n",
       "      <td>austin</td>\n",
       "      <td>shimadzu</td>\n",
       "    </tr>\n",
       "    <tr>\n",
       "      <th>5419</th>\n",
       "      <td>Oxycodone</td>\n",
       "      <td>20.0</td>\n",
       "      <td>0.05</td>\n",
       "      <td>0.356</td>\n",
       "      <td>FB08SEP18</td>\n",
       "      <td>11:30</td>\n",
       "      <td>3</td>\n",
       "      <td>0.0</td>\n",
       "      <td>0.0</td>\n",
       "      <td>austin</td>\n",
       "      <td>shimadzu</td>\n",
       "    </tr>\n",
       "    <tr>\n",
       "      <th>5428</th>\n",
       "      <td>Tramadol</td>\n",
       "      <td>20.0</td>\n",
       "      <td>0.05</td>\n",
       "      <td>1.454</td>\n",
       "      <td>FB08SEP18</td>\n",
       "      <td>11:30</td>\n",
       "      <td>3</td>\n",
       "      <td>0.0</td>\n",
       "      <td>0.0</td>\n",
       "      <td>austin</td>\n",
       "      <td>shimadzu</td>\n",
       "    </tr>\n",
       "  </tbody>\n",
       "</table>\n",
       "<p>220 rows × 11 columns</p>\n",
       "</div>"
      ],
      "text/plain": [
       "             metabolite  uloq  lloq  value       date time_pretty  location  \\\n",
       "1     7-Aminoclonazepam   5.0  0.05  0.134  FB08SEP18        6:30         1   \n",
       "6           Amphetamine   5.0  0.05  0.322  FB08SEP18        6:30         1   \n",
       "7       Benzoylecgonine  20.0  0.05  1.307  FB08SEP18        6:30         1   \n",
       "20          Hydrocodone   2.5  0.05  0.368  FB08SEP18        6:30         1   \n",
       "38       Norhydrocodone   5.0  0.05  0.231  FB08SEP18        6:30         1   \n",
       "...                 ...   ...   ...    ...        ...         ...       ...   \n",
       "5382        Amphetamine   5.0  0.05  0.484  FB08SEP18       11:30         3   \n",
       "5383    Benzoylecgonine  20.0  0.05  0.349  FB08SEP18       11:30         3   \n",
       "5416       Noroxycodone   5.0  0.05  0.292  FB08SEP18       11:30         3   \n",
       "5419          Oxycodone  20.0  0.05  0.356  FB08SEP18       11:30         3   \n",
       "5428           Tramadol  20.0  0.05  1.454  FB08SEP18       11:30         3   \n",
       "\n",
       "      below_lloq  above_uloq extraction   machine  \n",
       "1            0.0         0.0     austin  shimadzu  \n",
       "6            0.0         0.0     austin  shimadzu  \n",
       "7            0.0         0.0     austin  shimadzu  \n",
       "20           0.0         0.0     austin  shimadzu  \n",
       "38           0.0         0.0     austin  shimadzu  \n",
       "...          ...         ...        ...       ...  \n",
       "5382         0.0         0.0     austin  shimadzu  \n",
       "5383         0.0         0.0     austin  shimadzu  \n",
       "5416         0.0         0.0     austin  shimadzu  \n",
       "5419         0.0         0.0     austin  shimadzu  \n",
       "5428         0.0         0.0     austin  shimadzu  \n",
       "\n",
       "[220 rows x 11 columns]"
      ]
     },
     "execution_count": 11,
     "metadata": {},
     "output_type": "execute_result"
    }
   ],
   "source": [
    "data[(pd.notnull(data.value)) & (data.machine == \"shimadzu\")]"
   ]
  },
  {
   "cell_type": "code",
   "execution_count": 12,
   "metadata": {},
   "outputs": [],
   "source": [
    "shimadzu_set = set(data[(pd.notnull(data.value)) & (data.machine == \"shimadzu\")].metabolite)"
   ]
  },
  {
   "cell_type": "code",
   "execution_count": 15,
   "metadata": {},
   "outputs": [
    {
     "data": {
      "text/plain": [
       "29"
      ]
     },
     "execution_count": 15,
     "metadata": {},
     "output_type": "execute_result"
    }
   ],
   "source": [
    "len(metabolites_set)"
   ]
  },
  {
   "cell_type": "code",
   "execution_count": 14,
   "metadata": {},
   "outputs": [
    {
     "data": {
      "text/plain": [
       "22"
      ]
     },
     "execution_count": 14,
     "metadata": {},
     "output_type": "execute_result"
    }
   ],
   "source": [
    "len(shimadzu_set)"
   ]
  },
  {
   "cell_type": "code",
   "execution_count": 16,
   "metadata": {},
   "outputs": [],
   "source": [
    "waters_set = set(data[(pd.notnull(data.value)) & (data.machine == \"waters\")].metabolite)"
   ]
  },
  {
   "cell_type": "code",
   "execution_count": 18,
   "metadata": {},
   "outputs": [
    {
     "data": {
      "text/plain": [
       "29"
      ]
     },
     "execution_count": 18,
     "metadata": {},
     "output_type": "execute_result"
    }
   ],
   "source": [
    "len(waters_set)"
   ]
  },
  {
   "cell_type": "code",
   "execution_count": 19,
   "metadata": {},
   "outputs": [],
   "source": [
    "def add_replicate_id(row):\n",
    "    if row[\"extraction\"] == \"zach\":\n",
    "        return 2\n",
    "    return 1"
   ]
  },
  {
   "cell_type": "code",
   "execution_count": 20,
   "metadata": {},
   "outputs": [],
   "source": [
    "data['replicate_id'] = data.apply(lambda row: add_replicate_id(row),axis=1)"
   ]
  },
  {
   "cell_type": "code",
   "execution_count": 22,
   "metadata": {},
   "outputs": [
    {
     "data": {
      "text/html": [
       "<div>\n",
       "<style scoped>\n",
       "    .dataframe tbody tr th:only-of-type {\n",
       "        vertical-align: middle;\n",
       "    }\n",
       "\n",
       "    .dataframe tbody tr th {\n",
       "        vertical-align: top;\n",
       "    }\n",
       "\n",
       "    .dataframe thead th {\n",
       "        text-align: right;\n",
       "    }\n",
       "</style>\n",
       "<table border=\"1\" class=\"dataframe\">\n",
       "  <thead>\n",
       "    <tr style=\"text-align: right;\">\n",
       "      <th></th>\n",
       "      <th>metabolite</th>\n",
       "      <th>uloq</th>\n",
       "      <th>lloq</th>\n",
       "      <th>value</th>\n",
       "      <th>date</th>\n",
       "      <th>time_pretty</th>\n",
       "      <th>location</th>\n",
       "      <th>below_lloq</th>\n",
       "      <th>above_uloq</th>\n",
       "      <th>extraction</th>\n",
       "      <th>machine</th>\n",
       "      <th>replicate_id</th>\n",
       "    </tr>\n",
       "  </thead>\n",
       "  <tbody>\n",
       "    <tr>\n",
       "      <th>0</th>\n",
       "      <td>6-MAM</td>\n",
       "      <td>5.0</td>\n",
       "      <td>0.05</td>\n",
       "      <td>NaN</td>\n",
       "      <td>FB08SEP18</td>\n",
       "      <td>6:30</td>\n",
       "      <td>1</td>\n",
       "      <td>NaN</td>\n",
       "      <td>NaN</td>\n",
       "      <td>austin</td>\n",
       "      <td>shimadzu</td>\n",
       "      <td>1</td>\n",
       "    </tr>\n",
       "    <tr>\n",
       "      <th>1</th>\n",
       "      <td>7-Aminoclonazepam</td>\n",
       "      <td>5.0</td>\n",
       "      <td>0.05</td>\n",
       "      <td>0.134</td>\n",
       "      <td>FB08SEP18</td>\n",
       "      <td>6:30</td>\n",
       "      <td>1</td>\n",
       "      <td>0.0</td>\n",
       "      <td>0.0</td>\n",
       "      <td>austin</td>\n",
       "      <td>shimadzu</td>\n",
       "      <td>1</td>\n",
       "    </tr>\n",
       "    <tr>\n",
       "      <th>2</th>\n",
       "      <td>7-Aminoflunitrazepam</td>\n",
       "      <td>5.0</td>\n",
       "      <td>0.05</td>\n",
       "      <td>NaN</td>\n",
       "      <td>FB08SEP18</td>\n",
       "      <td>6:30</td>\n",
       "      <td>1</td>\n",
       "      <td>NaN</td>\n",
       "      <td>NaN</td>\n",
       "      <td>austin</td>\n",
       "      <td>shimadzu</td>\n",
       "      <td>1</td>\n",
       "    </tr>\n",
       "    <tr>\n",
       "      <th>3</th>\n",
       "      <td>α-Hydroxyalprazolam</td>\n",
       "      <td>20.0</td>\n",
       "      <td>0.05</td>\n",
       "      <td>NaN</td>\n",
       "      <td>FB08SEP18</td>\n",
       "      <td>6:30</td>\n",
       "      <td>1</td>\n",
       "      <td>NaN</td>\n",
       "      <td>NaN</td>\n",
       "      <td>austin</td>\n",
       "      <td>shimadzu</td>\n",
       "      <td>1</td>\n",
       "    </tr>\n",
       "    <tr>\n",
       "      <th>4</th>\n",
       "      <td>α-Hydroxytriazolam</td>\n",
       "      <td>20.0</td>\n",
       "      <td>0.05</td>\n",
       "      <td>NaN</td>\n",
       "      <td>FB08SEP18</td>\n",
       "      <td>6:30</td>\n",
       "      <td>1</td>\n",
       "      <td>NaN</td>\n",
       "      <td>NaN</td>\n",
       "      <td>austin</td>\n",
       "      <td>shimadzu</td>\n",
       "      <td>1</td>\n",
       "    </tr>\n",
       "    <tr>\n",
       "      <th>...</th>\n",
       "      <td>...</td>\n",
       "      <td>...</td>\n",
       "      <td>...</td>\n",
       "      <td>...</td>\n",
       "      <td>...</td>\n",
       "      <td>...</td>\n",
       "      <td>...</td>\n",
       "      <td>...</td>\n",
       "      <td>...</td>\n",
       "      <td>...</td>\n",
       "      <td>...</td>\n",
       "      <td>...</td>\n",
       "    </tr>\n",
       "    <tr>\n",
       "      <th>5539</th>\n",
       "      <td>Temazepam</td>\n",
       "      <td>20.0</td>\n",
       "      <td>0.05</td>\n",
       "      <td>NaN</td>\n",
       "      <td>FB08SEP18</td>\n",
       "      <td>11:30</td>\n",
       "      <td>3</td>\n",
       "      <td>NaN</td>\n",
       "      <td>NaN</td>\n",
       "      <td>zach</td>\n",
       "      <td>waters</td>\n",
       "      <td>2</td>\n",
       "    </tr>\n",
       "    <tr>\n",
       "      <th>5540</th>\n",
       "      <td>Tramadol</td>\n",
       "      <td>20.0</td>\n",
       "      <td>0.05</td>\n",
       "      <td>0.980</td>\n",
       "      <td>FB08SEP18</td>\n",
       "      <td>11:30</td>\n",
       "      <td>3</td>\n",
       "      <td>0.0</td>\n",
       "      <td>0.0</td>\n",
       "      <td>zach</td>\n",
       "      <td>waters</td>\n",
       "      <td>2</td>\n",
       "    </tr>\n",
       "    <tr>\n",
       "      <th>5541</th>\n",
       "      <td>Trazodone</td>\n",
       "      <td>20.0</td>\n",
       "      <td>0.50</td>\n",
       "      <td>0.090</td>\n",
       "      <td>FB08SEP18</td>\n",
       "      <td>11:30</td>\n",
       "      <td>3</td>\n",
       "      <td>1.0</td>\n",
       "      <td>0.0</td>\n",
       "      <td>zach</td>\n",
       "      <td>waters</td>\n",
       "      <td>2</td>\n",
       "    </tr>\n",
       "    <tr>\n",
       "      <th>5542</th>\n",
       "      <td>Triazolam</td>\n",
       "      <td>20.0</td>\n",
       "      <td>0.50</td>\n",
       "      <td>NaN</td>\n",
       "      <td>FB08SEP18</td>\n",
       "      <td>11:30</td>\n",
       "      <td>3</td>\n",
       "      <td>NaN</td>\n",
       "      <td>NaN</td>\n",
       "      <td>zach</td>\n",
       "      <td>waters</td>\n",
       "      <td>2</td>\n",
       "    </tr>\n",
       "    <tr>\n",
       "      <th>5543</th>\n",
       "      <td>Zolpidem</td>\n",
       "      <td>20.0</td>\n",
       "      <td>0.50</td>\n",
       "      <td>NaN</td>\n",
       "      <td>FB08SEP18</td>\n",
       "      <td>11:30</td>\n",
       "      <td>3</td>\n",
       "      <td>NaN</td>\n",
       "      <td>NaN</td>\n",
       "      <td>zach</td>\n",
       "      <td>waters</td>\n",
       "      <td>2</td>\n",
       "    </tr>\n",
       "  </tbody>\n",
       "</table>\n",
       "<p>5544 rows × 12 columns</p>\n",
       "</div>"
      ],
      "text/plain": [
       "                metabolite  uloq  lloq  value       date time_pretty  \\\n",
       "0                    6-MAM   5.0  0.05    NaN  FB08SEP18        6:30   \n",
       "1        7-Aminoclonazepam   5.0  0.05  0.134  FB08SEP18        6:30   \n",
       "2     7-Aminoflunitrazepam   5.0  0.05    NaN  FB08SEP18        6:30   \n",
       "3      α-Hydroxyalprazolam  20.0  0.05    NaN  FB08SEP18        6:30   \n",
       "4       α-Hydroxytriazolam  20.0  0.05    NaN  FB08SEP18        6:30   \n",
       "...                    ...   ...   ...    ...        ...         ...   \n",
       "5539             Temazepam  20.0  0.05    NaN  FB08SEP18       11:30   \n",
       "5540              Tramadol  20.0  0.05  0.980  FB08SEP18       11:30   \n",
       "5541             Trazodone  20.0  0.50  0.090  FB08SEP18       11:30   \n",
       "5542             Triazolam  20.0  0.50    NaN  FB08SEP18       11:30   \n",
       "5543              Zolpidem  20.0  0.50    NaN  FB08SEP18       11:30   \n",
       "\n",
       "      location  below_lloq  above_uloq extraction   machine  replicate_id  \n",
       "0            1         NaN         NaN     austin  shimadzu             1  \n",
       "1            1         0.0         0.0     austin  shimadzu             1  \n",
       "2            1         NaN         NaN     austin  shimadzu             1  \n",
       "3            1         NaN         NaN     austin  shimadzu             1  \n",
       "4            1         NaN         NaN     austin  shimadzu             1  \n",
       "...        ...         ...         ...        ...       ...           ...  \n",
       "5539         3         NaN         NaN       zach    waters             2  \n",
       "5540         3         0.0         0.0       zach    waters             2  \n",
       "5541         3         1.0         0.0       zach    waters             2  \n",
       "5542         3         NaN         NaN       zach    waters             2  \n",
       "5543         3         NaN         NaN       zach    waters             2  \n",
       "\n",
       "[5544 rows x 12 columns]"
      ]
     },
     "execution_count": 22,
     "metadata": {},
     "output_type": "execute_result"
    }
   ],
   "source": [
    "data"
   ]
  },
  {
   "cell_type": "code",
   "execution_count": 25,
   "metadata": {},
   "outputs": [],
   "source": [
    "waters_set_1 = set(data[(pd.notnull(data.value)) & (data.machine == \"waters\") & (data.replicate_id == 1)].metabolite)"
   ]
  },
  {
   "cell_type": "code",
   "execution_count": 29,
   "metadata": {},
   "outputs": [
    {
     "data": {
      "text/plain": [
       "28"
      ]
     },
     "execution_count": 29,
     "metadata": {},
     "output_type": "execute_result"
    }
   ],
   "source": [
    "len(waters_set_1)"
   ]
  },
  {
   "cell_type": "code",
   "execution_count": 27,
   "metadata": {},
   "outputs": [],
   "source": [
    "waters_set_2 = set(data[(pd.notnull(data.value)) & (data.machine == \"waters\") & (data.replicate_id == 2)].metabolite)"
   ]
  },
  {
   "cell_type": "code",
   "execution_count": 30,
   "metadata": {},
   "outputs": [
    {
     "data": {
      "text/plain": [
       "26"
      ]
     },
     "execution_count": 30,
     "metadata": {},
     "output_type": "execute_result"
    }
   ],
   "source": [
    "len(waters_set_2)"
   ]
  },
  {
   "cell_type": "code",
   "execution_count": 32,
   "metadata": {},
   "outputs": [
    {
     "data": {
      "text/plain": [
       "22"
      ]
     },
     "execution_count": 32,
     "metadata": {},
     "output_type": "execute_result"
    }
   ],
   "source": [
    "len(shimadzu_set)"
   ]
  },
  {
   "cell_type": "code",
   "execution_count": 35,
   "metadata": {},
   "outputs": [
    {
     "data": {
      "text/plain": [
       "25"
      ]
     },
     "execution_count": 35,
     "metadata": {},
     "output_type": "execute_result"
    }
   ],
   "source": [
    "len(waters_set_1.intersection(waters_set_2))"
   ]
  },
  {
   "cell_type": "code",
   "execution_count": 36,
   "metadata": {},
   "outputs": [
    {
     "data": {
      "text/plain": [
       "{'7-Aminoclonazepam',\n",
       " 'Amphetamine',\n",
       " 'Benzoylecgonine',\n",
       " 'Codeine',\n",
       " 'EDDP',\n",
       " 'Hydrocodone',\n",
       " 'Hydromorphone',\n",
       " 'Ketamine',\n",
       " 'MDMA',\n",
       " 'Meprobamate',\n",
       " 'Methadone',\n",
       " 'Methamphetamine',\n",
       " 'Morphine',\n",
       " 'Norbuprenorphine',\n",
       " 'Norhydrocodone',\n",
       " 'Noroxycodone',\n",
       " 'Oxazepam',\n",
       " 'Oxycodone',\n",
       " 'Oxymorphone',\n",
       " 'Tapentadol',\n",
       " 'Temazepam',\n",
       " 'Tramadol'}"
      ]
     },
     "execution_count": 36,
     "metadata": {},
     "output_type": "execute_result"
    }
   ],
   "source": [
    "shimadzu_set"
   ]
  },
  {
   "cell_type": "code",
   "execution_count": 38,
   "metadata": {},
   "outputs": [
    {
     "data": {
      "text/plain": [
       "{'7-Aminoclonazepam',\n",
       " 'Amphetamine',\n",
       " 'Benzoylecgonine',\n",
       " 'Cocaine',\n",
       " 'Codeine',\n",
       " 'Cyclobenzaprine',\n",
       " 'EDDP',\n",
       " 'Hydrocodone',\n",
       " 'Hydromorphone',\n",
       " 'Ketamine',\n",
       " 'MDMA',\n",
       " 'Methadone',\n",
       " 'Methamphetamine',\n",
       " 'Methylphenidate',\n",
       " 'Morphine',\n",
       " 'Norbuprenorphine',\n",
       " 'Norhydrocodone',\n",
       " 'Noroxycodone',\n",
       " 'O-Desmethyltramadol',\n",
       " 'Oxazepam',\n",
       " 'Oxycodone',\n",
       " 'Oxymorphone',\n",
       " 'Phentermine',\n",
       " 'Pseudoephedrine',\n",
       " 'Tapentadol',\n",
       " 'Temazepam',\n",
       " 'Tramadol',\n",
       " 'Trazodone'}"
      ]
     },
     "execution_count": 38,
     "metadata": {},
     "output_type": "execute_result"
    }
   ],
   "source": [
    "waters_set_1"
   ]
  },
  {
   "cell_type": "code",
   "execution_count": 37,
   "metadata": {},
   "outputs": [
    {
     "data": {
      "text/plain": [
       "{'7-Aminoclonazepam',\n",
       " 'Amphetamine',\n",
       " 'Benzoylecgonine',\n",
       " 'Cocaine',\n",
       " 'Codeine',\n",
       " 'Cyclobenzaprine',\n",
       " 'EDDP',\n",
       " 'Hydrocodone',\n",
       " 'Ketamine',\n",
       " 'MDMA',\n",
       " 'Meprobamate',\n",
       " 'Methadone',\n",
       " 'Methamphetamine',\n",
       " 'Methylphenidate',\n",
       " 'Morphine',\n",
       " 'Norhydrocodone',\n",
       " 'Noroxycodone',\n",
       " 'O-Desmethyltramadol',\n",
       " 'Oxycodone',\n",
       " 'Oxymorphone',\n",
       " 'Phentermine',\n",
       " 'Pseudoephedrine',\n",
       " 'Tapentadol',\n",
       " 'Temazepam',\n",
       " 'Tramadol',\n",
       " 'Trazodone'}"
      ]
     },
     "execution_count": 37,
     "metadata": {},
     "output_type": "execute_result"
    }
   ],
   "source": [
    "waters_set_2"
   ]
  },
  {
   "cell_type": "markdown",
   "metadata": {},
   "source": [
    "## Dataframe Transformation for Missing Data Plot"
   ]
  },
  {
   "cell_type": "code",
   "execution_count": null,
   "metadata": {},
   "outputs": [],
   "source": []
  }
 ],
 "metadata": {
  "kernelspec": {
   "display_name": "Python 3",
   "language": "python",
   "name": "python3"
  },
  "language_info": {
   "codemirror_mode": {
    "name": "ipython",
    "version": 3
   },
   "file_extension": ".py",
   "mimetype": "text/x-python",
   "name": "python",
   "nbconvert_exporter": "python",
   "pygments_lexer": "ipython3",
   "version": "3.7.7"
  }
 },
 "nbformat": 4,
 "nbformat_minor": 4
}
