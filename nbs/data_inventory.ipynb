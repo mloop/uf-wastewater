{
 "cells": [
  {
   "cell_type": "code",
   "execution_count": 1,
   "metadata": {},
   "outputs": [],
   "source": [
    "import pandas as pd"
   ]
  },
  {
   "cell_type": "code",
   "execution_count": 2,
   "metadata": {},
   "outputs": [],
   "source": [
    "data = pd.read_csv(\"../data/water_cleaned.txt\", delimiter=\"\\t\")"
   ]
  },
  {
   "cell_type": "code",
   "execution_count": 3,
   "metadata": {},
   "outputs": [
    {
     "data": {
      "text/html": [
       "<div>\n",
       "<style scoped>\n",
       "    .dataframe tbody tr th:only-of-type {\n",
       "        vertical-align: middle;\n",
       "    }\n",
       "\n",
       "    .dataframe tbody tr th {\n",
       "        vertical-align: top;\n",
       "    }\n",
       "\n",
       "    .dataframe thead th {\n",
       "        text-align: right;\n",
       "    }\n",
       "</style>\n",
       "<table border=\"1\" class=\"dataframe\">\n",
       "  <thead>\n",
       "    <tr style=\"text-align: right;\">\n",
       "      <th></th>\n",
       "      <th>metabolite</th>\n",
       "      <th>uloq</th>\n",
       "      <th>lloq</th>\n",
       "      <th>value</th>\n",
       "      <th>date</th>\n",
       "      <th>time_pretty</th>\n",
       "      <th>location</th>\n",
       "      <th>below_lloq</th>\n",
       "      <th>above_uloq</th>\n",
       "      <th>extraction</th>\n",
       "      <th>machine</th>\n",
       "    </tr>\n",
       "  </thead>\n",
       "  <tbody>\n",
       "    <tr>\n",
       "      <th>0</th>\n",
       "      <td>6-MAM</td>\n",
       "      <td>5.0</td>\n",
       "      <td>0.05</td>\n",
       "      <td>NaN</td>\n",
       "      <td>FB08SEP18</td>\n",
       "      <td>6:30</td>\n",
       "      <td>1</td>\n",
       "      <td>NaN</td>\n",
       "      <td>NaN</td>\n",
       "      <td>austin</td>\n",
       "      <td>shimadzu</td>\n",
       "    </tr>\n",
       "    <tr>\n",
       "      <th>1</th>\n",
       "      <td>7-Aminoclonazepam</td>\n",
       "      <td>5.0</td>\n",
       "      <td>0.05</td>\n",
       "      <td>0.134</td>\n",
       "      <td>FB08SEP18</td>\n",
       "      <td>6:30</td>\n",
       "      <td>1</td>\n",
       "      <td>0.0</td>\n",
       "      <td>0.0</td>\n",
       "      <td>austin</td>\n",
       "      <td>shimadzu</td>\n",
       "    </tr>\n",
       "    <tr>\n",
       "      <th>2</th>\n",
       "      <td>7-Aminoflunitrazepam</td>\n",
       "      <td>5.0</td>\n",
       "      <td>0.05</td>\n",
       "      <td>NaN</td>\n",
       "      <td>FB08SEP18</td>\n",
       "      <td>6:30</td>\n",
       "      <td>1</td>\n",
       "      <td>NaN</td>\n",
       "      <td>NaN</td>\n",
       "      <td>austin</td>\n",
       "      <td>shimadzu</td>\n",
       "    </tr>\n",
       "    <tr>\n",
       "      <th>3</th>\n",
       "      <td>α-Hydroxyalprazolam</td>\n",
       "      <td>20.0</td>\n",
       "      <td>0.05</td>\n",
       "      <td>NaN</td>\n",
       "      <td>FB08SEP18</td>\n",
       "      <td>6:30</td>\n",
       "      <td>1</td>\n",
       "      <td>NaN</td>\n",
       "      <td>NaN</td>\n",
       "      <td>austin</td>\n",
       "      <td>shimadzu</td>\n",
       "    </tr>\n",
       "    <tr>\n",
       "      <th>4</th>\n",
       "      <td>α-Hydroxytriazolam</td>\n",
       "      <td>20.0</td>\n",
       "      <td>0.05</td>\n",
       "      <td>NaN</td>\n",
       "      <td>FB08SEP18</td>\n",
       "      <td>6:30</td>\n",
       "      <td>1</td>\n",
       "      <td>NaN</td>\n",
       "      <td>NaN</td>\n",
       "      <td>austin</td>\n",
       "      <td>shimadzu</td>\n",
       "    </tr>\n",
       "    <tr>\n",
       "      <th>...</th>\n",
       "      <td>...</td>\n",
       "      <td>...</td>\n",
       "      <td>...</td>\n",
       "      <td>...</td>\n",
       "      <td>...</td>\n",
       "      <td>...</td>\n",
       "      <td>...</td>\n",
       "      <td>...</td>\n",
       "      <td>...</td>\n",
       "      <td>...</td>\n",
       "      <td>...</td>\n",
       "    </tr>\n",
       "    <tr>\n",
       "      <th>5539</th>\n",
       "      <td>Temazepam</td>\n",
       "      <td>20.0</td>\n",
       "      <td>0.05</td>\n",
       "      <td>NaN</td>\n",
       "      <td>FB08SEP18</td>\n",
       "      <td>11:30</td>\n",
       "      <td>3</td>\n",
       "      <td>NaN</td>\n",
       "      <td>NaN</td>\n",
       "      <td>zach</td>\n",
       "      <td>waters</td>\n",
       "    </tr>\n",
       "    <tr>\n",
       "      <th>5540</th>\n",
       "      <td>Tramadol</td>\n",
       "      <td>20.0</td>\n",
       "      <td>0.05</td>\n",
       "      <td>0.980</td>\n",
       "      <td>FB08SEP18</td>\n",
       "      <td>11:30</td>\n",
       "      <td>3</td>\n",
       "      <td>0.0</td>\n",
       "      <td>0.0</td>\n",
       "      <td>zach</td>\n",
       "      <td>waters</td>\n",
       "    </tr>\n",
       "    <tr>\n",
       "      <th>5541</th>\n",
       "      <td>Trazodone</td>\n",
       "      <td>20.0</td>\n",
       "      <td>0.50</td>\n",
       "      <td>0.090</td>\n",
       "      <td>FB08SEP18</td>\n",
       "      <td>11:30</td>\n",
       "      <td>3</td>\n",
       "      <td>1.0</td>\n",
       "      <td>0.0</td>\n",
       "      <td>zach</td>\n",
       "      <td>waters</td>\n",
       "    </tr>\n",
       "    <tr>\n",
       "      <th>5542</th>\n",
       "      <td>Triazolam</td>\n",
       "      <td>20.0</td>\n",
       "      <td>0.50</td>\n",
       "      <td>NaN</td>\n",
       "      <td>FB08SEP18</td>\n",
       "      <td>11:30</td>\n",
       "      <td>3</td>\n",
       "      <td>NaN</td>\n",
       "      <td>NaN</td>\n",
       "      <td>zach</td>\n",
       "      <td>waters</td>\n",
       "    </tr>\n",
       "    <tr>\n",
       "      <th>5543</th>\n",
       "      <td>Zolpidem</td>\n",
       "      <td>20.0</td>\n",
       "      <td>0.50</td>\n",
       "      <td>NaN</td>\n",
       "      <td>FB08SEP18</td>\n",
       "      <td>11:30</td>\n",
       "      <td>3</td>\n",
       "      <td>NaN</td>\n",
       "      <td>NaN</td>\n",
       "      <td>zach</td>\n",
       "      <td>waters</td>\n",
       "    </tr>\n",
       "  </tbody>\n",
       "</table>\n",
       "<p>5544 rows × 11 columns</p>\n",
       "</div>"
      ],
      "text/plain": [
       "                metabolite  uloq  lloq  value       date time_pretty  \\\n",
       "0                    6-MAM   5.0  0.05    NaN  FB08SEP18        6:30   \n",
       "1        7-Aminoclonazepam   5.0  0.05  0.134  FB08SEP18        6:30   \n",
       "2     7-Aminoflunitrazepam   5.0  0.05    NaN  FB08SEP18        6:30   \n",
       "3      α-Hydroxyalprazolam  20.0  0.05    NaN  FB08SEP18        6:30   \n",
       "4       α-Hydroxytriazolam  20.0  0.05    NaN  FB08SEP18        6:30   \n",
       "...                    ...   ...   ...    ...        ...         ...   \n",
       "5539             Temazepam  20.0  0.05    NaN  FB08SEP18       11:30   \n",
       "5540              Tramadol  20.0  0.05  0.980  FB08SEP18       11:30   \n",
       "5541             Trazodone  20.0  0.50  0.090  FB08SEP18       11:30   \n",
       "5542             Triazolam  20.0  0.50    NaN  FB08SEP18       11:30   \n",
       "5543              Zolpidem  20.0  0.50    NaN  FB08SEP18       11:30   \n",
       "\n",
       "      location  below_lloq  above_uloq extraction   machine  \n",
       "0            1         NaN         NaN     austin  shimadzu  \n",
       "1            1         0.0         0.0     austin  shimadzu  \n",
       "2            1         NaN         NaN     austin  shimadzu  \n",
       "3            1         NaN         NaN     austin  shimadzu  \n",
       "4            1         NaN         NaN     austin  shimadzu  \n",
       "...        ...         ...         ...        ...       ...  \n",
       "5539         3         NaN         NaN       zach    waters  \n",
       "5540         3         0.0         0.0       zach    waters  \n",
       "5541         3         1.0         0.0       zach    waters  \n",
       "5542         3         NaN         NaN       zach    waters  \n",
       "5543         3         NaN         NaN       zach    waters  \n",
       "\n",
       "[5544 rows x 11 columns]"
      ]
     },
     "execution_count": 3,
     "metadata": {},
     "output_type": "execute_result"
    }
   ],
   "source": [
    "data"
   ]
  },
  {
   "cell_type": "code",
   "execution_count": 4,
   "metadata": {},
   "outputs": [
    {
     "data": {
      "text/html": [
       "<div>\n",
       "<style scoped>\n",
       "    .dataframe tbody tr th:only-of-type {\n",
       "        vertical-align: middle;\n",
       "    }\n",
       "\n",
       "    .dataframe tbody tr th {\n",
       "        vertical-align: top;\n",
       "    }\n",
       "\n",
       "    .dataframe thead th {\n",
       "        text-align: right;\n",
       "    }\n",
       "</style>\n",
       "<table border=\"1\" class=\"dataframe\">\n",
       "  <thead>\n",
       "    <tr style=\"text-align: right;\">\n",
       "      <th></th>\n",
       "      <th>metabolite</th>\n",
       "      <th>uloq</th>\n",
       "      <th>lloq</th>\n",
       "      <th>value</th>\n",
       "      <th>date</th>\n",
       "      <th>time_pretty</th>\n",
       "      <th>location</th>\n",
       "      <th>below_lloq</th>\n",
       "      <th>above_uloq</th>\n",
       "      <th>extraction</th>\n",
       "      <th>machine</th>\n",
       "    </tr>\n",
       "  </thead>\n",
       "  <tbody>\n",
       "    <tr>\n",
       "      <th>1</th>\n",
       "      <td>7-Aminoclonazepam</td>\n",
       "      <td>5.0</td>\n",
       "      <td>0.05</td>\n",
       "      <td>0.134</td>\n",
       "      <td>FB08SEP18</td>\n",
       "      <td>6:30</td>\n",
       "      <td>1</td>\n",
       "      <td>0.0</td>\n",
       "      <td>0.0</td>\n",
       "      <td>austin</td>\n",
       "      <td>shimadzu</td>\n",
       "    </tr>\n",
       "    <tr>\n",
       "      <th>6</th>\n",
       "      <td>Amphetamine</td>\n",
       "      <td>5.0</td>\n",
       "      <td>0.05</td>\n",
       "      <td>0.322</td>\n",
       "      <td>FB08SEP18</td>\n",
       "      <td>6:30</td>\n",
       "      <td>1</td>\n",
       "      <td>0.0</td>\n",
       "      <td>0.0</td>\n",
       "      <td>austin</td>\n",
       "      <td>shimadzu</td>\n",
       "    </tr>\n",
       "    <tr>\n",
       "      <th>7</th>\n",
       "      <td>Benzoylecgonine</td>\n",
       "      <td>20.0</td>\n",
       "      <td>0.05</td>\n",
       "      <td>1.307</td>\n",
       "      <td>FB08SEP18</td>\n",
       "      <td>6:30</td>\n",
       "      <td>1</td>\n",
       "      <td>0.0</td>\n",
       "      <td>0.0</td>\n",
       "      <td>austin</td>\n",
       "      <td>shimadzu</td>\n",
       "    </tr>\n",
       "    <tr>\n",
       "      <th>20</th>\n",
       "      <td>Hydrocodone</td>\n",
       "      <td>2.5</td>\n",
       "      <td>0.05</td>\n",
       "      <td>0.368</td>\n",
       "      <td>FB08SEP18</td>\n",
       "      <td>6:30</td>\n",
       "      <td>1</td>\n",
       "      <td>0.0</td>\n",
       "      <td>0.0</td>\n",
       "      <td>austin</td>\n",
       "      <td>shimadzu</td>\n",
       "    </tr>\n",
       "    <tr>\n",
       "      <th>38</th>\n",
       "      <td>Norhydrocodone</td>\n",
       "      <td>5.0</td>\n",
       "      <td>0.05</td>\n",
       "      <td>0.231</td>\n",
       "      <td>FB08SEP18</td>\n",
       "      <td>6:30</td>\n",
       "      <td>1</td>\n",
       "      <td>0.0</td>\n",
       "      <td>0.0</td>\n",
       "      <td>austin</td>\n",
       "      <td>shimadzu</td>\n",
       "    </tr>\n",
       "    <tr>\n",
       "      <th>...</th>\n",
       "      <td>...</td>\n",
       "      <td>...</td>\n",
       "      <td>...</td>\n",
       "      <td>...</td>\n",
       "      <td>...</td>\n",
       "      <td>...</td>\n",
       "      <td>...</td>\n",
       "      <td>...</td>\n",
       "      <td>...</td>\n",
       "      <td>...</td>\n",
       "      <td>...</td>\n",
       "    </tr>\n",
       "    <tr>\n",
       "      <th>5528</th>\n",
       "      <td>Noroxycodone</td>\n",
       "      <td>5.0</td>\n",
       "      <td>0.05</td>\n",
       "      <td>0.300</td>\n",
       "      <td>FB08SEP18</td>\n",
       "      <td>11:30</td>\n",
       "      <td>3</td>\n",
       "      <td>0.0</td>\n",
       "      <td>0.0</td>\n",
       "      <td>zach</td>\n",
       "      <td>waters</td>\n",
       "    </tr>\n",
       "    <tr>\n",
       "      <th>5534</th>\n",
       "      <td>Phentermine</td>\n",
       "      <td>5.0</td>\n",
       "      <td>0.05</td>\n",
       "      <td>1.240</td>\n",
       "      <td>FB08SEP18</td>\n",
       "      <td>11:30</td>\n",
       "      <td>3</td>\n",
       "      <td>0.0</td>\n",
       "      <td>0.0</td>\n",
       "      <td>zach</td>\n",
       "      <td>waters</td>\n",
       "    </tr>\n",
       "    <tr>\n",
       "      <th>5536</th>\n",
       "      <td>Pseudoephedrine</td>\n",
       "      <td>20.0</td>\n",
       "      <td>0.05</td>\n",
       "      <td>7.330</td>\n",
       "      <td>FB08SEP18</td>\n",
       "      <td>11:30</td>\n",
       "      <td>3</td>\n",
       "      <td>0.0</td>\n",
       "      <td>1.0</td>\n",
       "      <td>zach</td>\n",
       "      <td>waters</td>\n",
       "    </tr>\n",
       "    <tr>\n",
       "      <th>5540</th>\n",
       "      <td>Tramadol</td>\n",
       "      <td>20.0</td>\n",
       "      <td>0.05</td>\n",
       "      <td>0.980</td>\n",
       "      <td>FB08SEP18</td>\n",
       "      <td>11:30</td>\n",
       "      <td>3</td>\n",
       "      <td>0.0</td>\n",
       "      <td>0.0</td>\n",
       "      <td>zach</td>\n",
       "      <td>waters</td>\n",
       "    </tr>\n",
       "    <tr>\n",
       "      <th>5541</th>\n",
       "      <td>Trazodone</td>\n",
       "      <td>20.0</td>\n",
       "      <td>0.50</td>\n",
       "      <td>0.090</td>\n",
       "      <td>FB08SEP18</td>\n",
       "      <td>11:30</td>\n",
       "      <td>3</td>\n",
       "      <td>1.0</td>\n",
       "      <td>0.0</td>\n",
       "      <td>zach</td>\n",
       "      <td>waters</td>\n",
       "    </tr>\n",
       "  </tbody>\n",
       "</table>\n",
       "<p>856 rows × 11 columns</p>\n",
       "</div>"
      ],
      "text/plain": [
       "             metabolite  uloq  lloq  value       date time_pretty  location  \\\n",
       "1     7-Aminoclonazepam   5.0  0.05  0.134  FB08SEP18        6:30         1   \n",
       "6           Amphetamine   5.0  0.05  0.322  FB08SEP18        6:30         1   \n",
       "7       Benzoylecgonine  20.0  0.05  1.307  FB08SEP18        6:30         1   \n",
       "20          Hydrocodone   2.5  0.05  0.368  FB08SEP18        6:30         1   \n",
       "38       Norhydrocodone   5.0  0.05  0.231  FB08SEP18        6:30         1   \n",
       "...                 ...   ...   ...    ...        ...         ...       ...   \n",
       "5528       Noroxycodone   5.0  0.05  0.300  FB08SEP18       11:30         3   \n",
       "5534        Phentermine   5.0  0.05  1.240  FB08SEP18       11:30         3   \n",
       "5536    Pseudoephedrine  20.0  0.05  7.330  FB08SEP18       11:30         3   \n",
       "5540           Tramadol  20.0  0.05  0.980  FB08SEP18       11:30         3   \n",
       "5541          Trazodone  20.0  0.50  0.090  FB08SEP18       11:30         3   \n",
       "\n",
       "      below_lloq  above_uloq extraction   machine  \n",
       "1            0.0         0.0     austin  shimadzu  \n",
       "6            0.0         0.0     austin  shimadzu  \n",
       "7            0.0         0.0     austin  shimadzu  \n",
       "20           0.0         0.0     austin  shimadzu  \n",
       "38           0.0         0.0     austin  shimadzu  \n",
       "...          ...         ...        ...       ...  \n",
       "5528         0.0         0.0       zach    waters  \n",
       "5534         0.0         0.0       zach    waters  \n",
       "5536         0.0         1.0       zach    waters  \n",
       "5540         0.0         0.0       zach    waters  \n",
       "5541         1.0         0.0       zach    waters  \n",
       "\n",
       "[856 rows x 11 columns]"
      ]
     },
     "execution_count": 4,
     "metadata": {},
     "output_type": "execute_result"
    }
   ],
   "source": [
    "data[pd.notnull(data.value)]"
   ]
  },
  {
   "cell_type": "markdown",
   "metadata": {},
   "source": [
    "## Venn Diagram Information"
   ]
  },
  {
   "cell_type": "code",
   "execution_count": 5,
   "metadata": {},
   "outputs": [],
   "source": [
    "metabolites_set = set(data[pd.notnull(data.value)].metabolite)"
   ]
  },
  {
   "cell_type": "code",
   "execution_count": 6,
   "metadata": {},
   "outputs": [
    {
     "data": {
      "text/plain": [
       "{'7-Aminoclonazepam',\n",
       " 'Amphetamine',\n",
       " 'Benzoylecgonine',\n",
       " 'Cocaine',\n",
       " 'Codeine',\n",
       " 'Cyclobenzaprine',\n",
       " 'EDDP',\n",
       " 'Hydrocodone',\n",
       " 'Hydromorphone',\n",
       " 'Ketamine',\n",
       " 'MDMA',\n",
       " 'Meprobamate',\n",
       " 'Methadone',\n",
       " 'Methamphetamine',\n",
       " 'Methylphenidate',\n",
       " 'Morphine',\n",
       " 'Norbuprenorphine',\n",
       " 'Norhydrocodone',\n",
       " 'Noroxycodone',\n",
       " 'O-Desmethyltramadol',\n",
       " 'Oxazepam',\n",
       " 'Oxycodone',\n",
       " 'Oxymorphone',\n",
       " 'Phentermine',\n",
       " 'Pseudoephedrine',\n",
       " 'Tapentadol',\n",
       " 'Temazepam',\n",
       " 'Tramadol',\n",
       " 'Trazodone'}"
      ]
     },
     "execution_count": 6,
     "metadata": {},
     "output_type": "execute_result"
    }
   ],
   "source": [
    "# All detected analytes\n",
    "metabolites_set"
   ]
  },
  {
   "cell_type": "code",
   "execution_count": 11,
   "metadata": {},
   "outputs": [
    {
     "data": {
      "text/html": [
       "<div>\n",
       "<style scoped>\n",
       "    .dataframe tbody tr th:only-of-type {\n",
       "        vertical-align: middle;\n",
       "    }\n",
       "\n",
       "    .dataframe tbody tr th {\n",
       "        vertical-align: top;\n",
       "    }\n",
       "\n",
       "    .dataframe thead th {\n",
       "        text-align: right;\n",
       "    }\n",
       "</style>\n",
       "<table border=\"1\" class=\"dataframe\">\n",
       "  <thead>\n",
       "    <tr style=\"text-align: right;\">\n",
       "      <th></th>\n",
       "      <th>metabolite</th>\n",
       "      <th>uloq</th>\n",
       "      <th>lloq</th>\n",
       "      <th>value</th>\n",
       "      <th>date</th>\n",
       "      <th>time_pretty</th>\n",
       "      <th>location</th>\n",
       "      <th>below_lloq</th>\n",
       "      <th>above_uloq</th>\n",
       "      <th>extraction</th>\n",
       "      <th>machine</th>\n",
       "    </tr>\n",
       "  </thead>\n",
       "  <tbody>\n",
       "    <tr>\n",
       "      <th>1</th>\n",
       "      <td>7-Aminoclonazepam</td>\n",
       "      <td>5.0</td>\n",
       "      <td>0.05</td>\n",
       "      <td>0.134</td>\n",
       "      <td>FB08SEP18</td>\n",
       "      <td>6:30</td>\n",
       "      <td>1</td>\n",
       "      <td>0.0</td>\n",
       "      <td>0.0</td>\n",
       "      <td>austin</td>\n",
       "      <td>shimadzu</td>\n",
       "    </tr>\n",
       "    <tr>\n",
       "      <th>6</th>\n",
       "      <td>Amphetamine</td>\n",
       "      <td>5.0</td>\n",
       "      <td>0.05</td>\n",
       "      <td>0.322</td>\n",
       "      <td>FB08SEP18</td>\n",
       "      <td>6:30</td>\n",
       "      <td>1</td>\n",
       "      <td>0.0</td>\n",
       "      <td>0.0</td>\n",
       "      <td>austin</td>\n",
       "      <td>shimadzu</td>\n",
       "    </tr>\n",
       "    <tr>\n",
       "      <th>7</th>\n",
       "      <td>Benzoylecgonine</td>\n",
       "      <td>20.0</td>\n",
       "      <td>0.05</td>\n",
       "      <td>1.307</td>\n",
       "      <td>FB08SEP18</td>\n",
       "      <td>6:30</td>\n",
       "      <td>1</td>\n",
       "      <td>0.0</td>\n",
       "      <td>0.0</td>\n",
       "      <td>austin</td>\n",
       "      <td>shimadzu</td>\n",
       "    </tr>\n",
       "    <tr>\n",
       "      <th>20</th>\n",
       "      <td>Hydrocodone</td>\n",
       "      <td>2.5</td>\n",
       "      <td>0.05</td>\n",
       "      <td>0.368</td>\n",
       "      <td>FB08SEP18</td>\n",
       "      <td>6:30</td>\n",
       "      <td>1</td>\n",
       "      <td>0.0</td>\n",
       "      <td>0.0</td>\n",
       "      <td>austin</td>\n",
       "      <td>shimadzu</td>\n",
       "    </tr>\n",
       "    <tr>\n",
       "      <th>38</th>\n",
       "      <td>Norhydrocodone</td>\n",
       "      <td>5.0</td>\n",
       "      <td>0.05</td>\n",
       "      <td>0.231</td>\n",
       "      <td>FB08SEP18</td>\n",
       "      <td>6:30</td>\n",
       "      <td>1</td>\n",
       "      <td>0.0</td>\n",
       "      <td>0.0</td>\n",
       "      <td>austin</td>\n",
       "      <td>shimadzu</td>\n",
       "    </tr>\n",
       "    <tr>\n",
       "      <th>...</th>\n",
       "      <td>...</td>\n",
       "      <td>...</td>\n",
       "      <td>...</td>\n",
       "      <td>...</td>\n",
       "      <td>...</td>\n",
       "      <td>...</td>\n",
       "      <td>...</td>\n",
       "      <td>...</td>\n",
       "      <td>...</td>\n",
       "      <td>...</td>\n",
       "      <td>...</td>\n",
       "    </tr>\n",
       "    <tr>\n",
       "      <th>5382</th>\n",
       "      <td>Amphetamine</td>\n",
       "      <td>5.0</td>\n",
       "      <td>0.05</td>\n",
       "      <td>0.484</td>\n",
       "      <td>FB08SEP18</td>\n",
       "      <td>11:30</td>\n",
       "      <td>3</td>\n",
       "      <td>0.0</td>\n",
       "      <td>0.0</td>\n",
       "      <td>austin</td>\n",
       "      <td>shimadzu</td>\n",
       "    </tr>\n",
       "    <tr>\n",
       "      <th>5383</th>\n",
       "      <td>Benzoylecgonine</td>\n",
       "      <td>20.0</td>\n",
       "      <td>0.05</td>\n",
       "      <td>0.349</td>\n",
       "      <td>FB08SEP18</td>\n",
       "      <td>11:30</td>\n",
       "      <td>3</td>\n",
       "      <td>0.0</td>\n",
       "      <td>0.0</td>\n",
       "      <td>austin</td>\n",
       "      <td>shimadzu</td>\n",
       "    </tr>\n",
       "    <tr>\n",
       "      <th>5416</th>\n",
       "      <td>Noroxycodone</td>\n",
       "      <td>5.0</td>\n",
       "      <td>0.05</td>\n",
       "      <td>0.292</td>\n",
       "      <td>FB08SEP18</td>\n",
       "      <td>11:30</td>\n",
       "      <td>3</td>\n",
       "      <td>0.0</td>\n",
       "      <td>0.0</td>\n",
       "      <td>austin</td>\n",
       "      <td>shimadzu</td>\n",
       "    </tr>\n",
       "    <tr>\n",
       "      <th>5419</th>\n",
       "      <td>Oxycodone</td>\n",
       "      <td>20.0</td>\n",
       "      <td>0.05</td>\n",
       "      <td>0.356</td>\n",
       "      <td>FB08SEP18</td>\n",
       "      <td>11:30</td>\n",
       "      <td>3</td>\n",
       "      <td>0.0</td>\n",
       "      <td>0.0</td>\n",
       "      <td>austin</td>\n",
       "      <td>shimadzu</td>\n",
       "    </tr>\n",
       "    <tr>\n",
       "      <th>5428</th>\n",
       "      <td>Tramadol</td>\n",
       "      <td>20.0</td>\n",
       "      <td>0.05</td>\n",
       "      <td>1.454</td>\n",
       "      <td>FB08SEP18</td>\n",
       "      <td>11:30</td>\n",
       "      <td>3</td>\n",
       "      <td>0.0</td>\n",
       "      <td>0.0</td>\n",
       "      <td>austin</td>\n",
       "      <td>shimadzu</td>\n",
       "    </tr>\n",
       "  </tbody>\n",
       "</table>\n",
       "<p>220 rows × 11 columns</p>\n",
       "</div>"
      ],
      "text/plain": [
       "             metabolite  uloq  lloq  value       date time_pretty  location  \\\n",
       "1     7-Aminoclonazepam   5.0  0.05  0.134  FB08SEP18        6:30         1   \n",
       "6           Amphetamine   5.0  0.05  0.322  FB08SEP18        6:30         1   \n",
       "7       Benzoylecgonine  20.0  0.05  1.307  FB08SEP18        6:30         1   \n",
       "20          Hydrocodone   2.5  0.05  0.368  FB08SEP18        6:30         1   \n",
       "38       Norhydrocodone   5.0  0.05  0.231  FB08SEP18        6:30         1   \n",
       "...                 ...   ...   ...    ...        ...         ...       ...   \n",
       "5382        Amphetamine   5.0  0.05  0.484  FB08SEP18       11:30         3   \n",
       "5383    Benzoylecgonine  20.0  0.05  0.349  FB08SEP18       11:30         3   \n",
       "5416       Noroxycodone   5.0  0.05  0.292  FB08SEP18       11:30         3   \n",
       "5419          Oxycodone  20.0  0.05  0.356  FB08SEP18       11:30         3   \n",
       "5428           Tramadol  20.0  0.05  1.454  FB08SEP18       11:30         3   \n",
       "\n",
       "      below_lloq  above_uloq extraction   machine  \n",
       "1            0.0         0.0     austin  shimadzu  \n",
       "6            0.0         0.0     austin  shimadzu  \n",
       "7            0.0         0.0     austin  shimadzu  \n",
       "20           0.0         0.0     austin  shimadzu  \n",
       "38           0.0         0.0     austin  shimadzu  \n",
       "...          ...         ...        ...       ...  \n",
       "5382         0.0         0.0     austin  shimadzu  \n",
       "5383         0.0         0.0     austin  shimadzu  \n",
       "5416         0.0         0.0     austin  shimadzu  \n",
       "5419         0.0         0.0     austin  shimadzu  \n",
       "5428         0.0         0.0     austin  shimadzu  \n",
       "\n",
       "[220 rows x 11 columns]"
      ]
     },
     "execution_count": 11,
     "metadata": {},
     "output_type": "execute_result"
    }
   ],
   "source": [
    "data[(pd.notnull(data.value)) & (data.machine == \"shimadzu\")]"
   ]
  },
  {
   "cell_type": "code",
   "execution_count": 12,
   "metadata": {},
   "outputs": [],
   "source": [
    "# Analytes detected by shimadzu\n",
    "shimadzu_set = set(data[(pd.notnull(data.value)) & (data.machine == \"shimadzu\")].metabolite)"
   ]
  },
  {
   "cell_type": "code",
   "execution_count": 15,
   "metadata": {},
   "outputs": [
    {
     "data": {
      "text/plain": [
       "29"
      ]
     },
     "execution_count": 15,
     "metadata": {},
     "output_type": "execute_result"
    }
   ],
   "source": [
    "len(metabolites_set)"
   ]
  },
  {
   "cell_type": "code",
   "execution_count": 14,
   "metadata": {},
   "outputs": [
    {
     "data": {
      "text/plain": [
       "22"
      ]
     },
     "execution_count": 14,
     "metadata": {},
     "output_type": "execute_result"
    }
   ],
   "source": [
    "len(shimadzu_set)"
   ]
  },
  {
   "cell_type": "code",
   "execution_count": 16,
   "metadata": {},
   "outputs": [],
   "source": [
    "# Analytes detected by waters\n",
    "waters_set = set(data[(pd.notnull(data.value)) & (data.machine == \"waters\")].metabolite)"
   ]
  },
  {
   "cell_type": "code",
   "execution_count": 18,
   "metadata": {},
   "outputs": [
    {
     "data": {
      "text/plain": [
       "29"
      ]
     },
     "execution_count": 18,
     "metadata": {},
     "output_type": "execute_result"
    }
   ],
   "source": [
    "len(waters_set)"
   ]
  },
  {
   "cell_type": "code",
   "execution_count": 19,
   "metadata": {},
   "outputs": [],
   "source": [
    "def add_replicate_id(row):\n",
    "    if row[\"extraction\"] == \"zach\":\n",
    "        return 2\n",
    "    return 1"
   ]
  },
  {
   "cell_type": "code",
   "execution_count": 20,
   "metadata": {},
   "outputs": [],
   "source": [
    "data['replicate_id'] = data.apply(lambda row: add_replicate_id(row),axis=1)"
   ]
  },
  {
   "cell_type": "code",
   "execution_count": 22,
   "metadata": {},
   "outputs": [
    {
     "data": {
      "text/html": [
       "<div>\n",
       "<style scoped>\n",
       "    .dataframe tbody tr th:only-of-type {\n",
       "        vertical-align: middle;\n",
       "    }\n",
       "\n",
       "    .dataframe tbody tr th {\n",
       "        vertical-align: top;\n",
       "    }\n",
       "\n",
       "    .dataframe thead th {\n",
       "        text-align: right;\n",
       "    }\n",
       "</style>\n",
       "<table border=\"1\" class=\"dataframe\">\n",
       "  <thead>\n",
       "    <tr style=\"text-align: right;\">\n",
       "      <th></th>\n",
       "      <th>metabolite</th>\n",
       "      <th>uloq</th>\n",
       "      <th>lloq</th>\n",
       "      <th>value</th>\n",
       "      <th>date</th>\n",
       "      <th>time_pretty</th>\n",
       "      <th>location</th>\n",
       "      <th>below_lloq</th>\n",
       "      <th>above_uloq</th>\n",
       "      <th>extraction</th>\n",
       "      <th>machine</th>\n",
       "      <th>replicate_id</th>\n",
       "    </tr>\n",
       "  </thead>\n",
       "  <tbody>\n",
       "    <tr>\n",
       "      <th>0</th>\n",
       "      <td>6-MAM</td>\n",
       "      <td>5.0</td>\n",
       "      <td>0.05</td>\n",
       "      <td>NaN</td>\n",
       "      <td>FB08SEP18</td>\n",
       "      <td>6:30</td>\n",
       "      <td>1</td>\n",
       "      <td>NaN</td>\n",
       "      <td>NaN</td>\n",
       "      <td>austin</td>\n",
       "      <td>shimadzu</td>\n",
       "      <td>1</td>\n",
       "    </tr>\n",
       "    <tr>\n",
       "      <th>1</th>\n",
       "      <td>7-Aminoclonazepam</td>\n",
       "      <td>5.0</td>\n",
       "      <td>0.05</td>\n",
       "      <td>0.134</td>\n",
       "      <td>FB08SEP18</td>\n",
       "      <td>6:30</td>\n",
       "      <td>1</td>\n",
       "      <td>0.0</td>\n",
       "      <td>0.0</td>\n",
       "      <td>austin</td>\n",
       "      <td>shimadzu</td>\n",
       "      <td>1</td>\n",
       "    </tr>\n",
       "    <tr>\n",
       "      <th>2</th>\n",
       "      <td>7-Aminoflunitrazepam</td>\n",
       "      <td>5.0</td>\n",
       "      <td>0.05</td>\n",
       "      <td>NaN</td>\n",
       "      <td>FB08SEP18</td>\n",
       "      <td>6:30</td>\n",
       "      <td>1</td>\n",
       "      <td>NaN</td>\n",
       "      <td>NaN</td>\n",
       "      <td>austin</td>\n",
       "      <td>shimadzu</td>\n",
       "      <td>1</td>\n",
       "    </tr>\n",
       "    <tr>\n",
       "      <th>3</th>\n",
       "      <td>α-Hydroxyalprazolam</td>\n",
       "      <td>20.0</td>\n",
       "      <td>0.05</td>\n",
       "      <td>NaN</td>\n",
       "      <td>FB08SEP18</td>\n",
       "      <td>6:30</td>\n",
       "      <td>1</td>\n",
       "      <td>NaN</td>\n",
       "      <td>NaN</td>\n",
       "      <td>austin</td>\n",
       "      <td>shimadzu</td>\n",
       "      <td>1</td>\n",
       "    </tr>\n",
       "    <tr>\n",
       "      <th>4</th>\n",
       "      <td>α-Hydroxytriazolam</td>\n",
       "      <td>20.0</td>\n",
       "      <td>0.05</td>\n",
       "      <td>NaN</td>\n",
       "      <td>FB08SEP18</td>\n",
       "      <td>6:30</td>\n",
       "      <td>1</td>\n",
       "      <td>NaN</td>\n",
       "      <td>NaN</td>\n",
       "      <td>austin</td>\n",
       "      <td>shimadzu</td>\n",
       "      <td>1</td>\n",
       "    </tr>\n",
       "    <tr>\n",
       "      <th>...</th>\n",
       "      <td>...</td>\n",
       "      <td>...</td>\n",
       "      <td>...</td>\n",
       "      <td>...</td>\n",
       "      <td>...</td>\n",
       "      <td>...</td>\n",
       "      <td>...</td>\n",
       "      <td>...</td>\n",
       "      <td>...</td>\n",
       "      <td>...</td>\n",
       "      <td>...</td>\n",
       "      <td>...</td>\n",
       "    </tr>\n",
       "    <tr>\n",
       "      <th>5539</th>\n",
       "      <td>Temazepam</td>\n",
       "      <td>20.0</td>\n",
       "      <td>0.05</td>\n",
       "      <td>NaN</td>\n",
       "      <td>FB08SEP18</td>\n",
       "      <td>11:30</td>\n",
       "      <td>3</td>\n",
       "      <td>NaN</td>\n",
       "      <td>NaN</td>\n",
       "      <td>zach</td>\n",
       "      <td>waters</td>\n",
       "      <td>2</td>\n",
       "    </tr>\n",
       "    <tr>\n",
       "      <th>5540</th>\n",
       "      <td>Tramadol</td>\n",
       "      <td>20.0</td>\n",
       "      <td>0.05</td>\n",
       "      <td>0.980</td>\n",
       "      <td>FB08SEP18</td>\n",
       "      <td>11:30</td>\n",
       "      <td>3</td>\n",
       "      <td>0.0</td>\n",
       "      <td>0.0</td>\n",
       "      <td>zach</td>\n",
       "      <td>waters</td>\n",
       "      <td>2</td>\n",
       "    </tr>\n",
       "    <tr>\n",
       "      <th>5541</th>\n",
       "      <td>Trazodone</td>\n",
       "      <td>20.0</td>\n",
       "      <td>0.50</td>\n",
       "      <td>0.090</td>\n",
       "      <td>FB08SEP18</td>\n",
       "      <td>11:30</td>\n",
       "      <td>3</td>\n",
       "      <td>1.0</td>\n",
       "      <td>0.0</td>\n",
       "      <td>zach</td>\n",
       "      <td>waters</td>\n",
       "      <td>2</td>\n",
       "    </tr>\n",
       "    <tr>\n",
       "      <th>5542</th>\n",
       "      <td>Triazolam</td>\n",
       "      <td>20.0</td>\n",
       "      <td>0.50</td>\n",
       "      <td>NaN</td>\n",
       "      <td>FB08SEP18</td>\n",
       "      <td>11:30</td>\n",
       "      <td>3</td>\n",
       "      <td>NaN</td>\n",
       "      <td>NaN</td>\n",
       "      <td>zach</td>\n",
       "      <td>waters</td>\n",
       "      <td>2</td>\n",
       "    </tr>\n",
       "    <tr>\n",
       "      <th>5543</th>\n",
       "      <td>Zolpidem</td>\n",
       "      <td>20.0</td>\n",
       "      <td>0.50</td>\n",
       "      <td>NaN</td>\n",
       "      <td>FB08SEP18</td>\n",
       "      <td>11:30</td>\n",
       "      <td>3</td>\n",
       "      <td>NaN</td>\n",
       "      <td>NaN</td>\n",
       "      <td>zach</td>\n",
       "      <td>waters</td>\n",
       "      <td>2</td>\n",
       "    </tr>\n",
       "  </tbody>\n",
       "</table>\n",
       "<p>5544 rows × 12 columns</p>\n",
       "</div>"
      ],
      "text/plain": [
       "                metabolite  uloq  lloq  value       date time_pretty  \\\n",
       "0                    6-MAM   5.0  0.05    NaN  FB08SEP18        6:30   \n",
       "1        7-Aminoclonazepam   5.0  0.05  0.134  FB08SEP18        6:30   \n",
       "2     7-Aminoflunitrazepam   5.0  0.05    NaN  FB08SEP18        6:30   \n",
       "3      α-Hydroxyalprazolam  20.0  0.05    NaN  FB08SEP18        6:30   \n",
       "4       α-Hydroxytriazolam  20.0  0.05    NaN  FB08SEP18        6:30   \n",
       "...                    ...   ...   ...    ...        ...         ...   \n",
       "5539             Temazepam  20.0  0.05    NaN  FB08SEP18       11:30   \n",
       "5540              Tramadol  20.0  0.05  0.980  FB08SEP18       11:30   \n",
       "5541             Trazodone  20.0  0.50  0.090  FB08SEP18       11:30   \n",
       "5542             Triazolam  20.0  0.50    NaN  FB08SEP18       11:30   \n",
       "5543              Zolpidem  20.0  0.50    NaN  FB08SEP18       11:30   \n",
       "\n",
       "      location  below_lloq  above_uloq extraction   machine  replicate_id  \n",
       "0            1         NaN         NaN     austin  shimadzu             1  \n",
       "1            1         0.0         0.0     austin  shimadzu             1  \n",
       "2            1         NaN         NaN     austin  shimadzu             1  \n",
       "3            1         NaN         NaN     austin  shimadzu             1  \n",
       "4            1         NaN         NaN     austin  shimadzu             1  \n",
       "...        ...         ...         ...        ...       ...           ...  \n",
       "5539         3         NaN         NaN       zach    waters             2  \n",
       "5540         3         0.0         0.0       zach    waters             2  \n",
       "5541         3         1.0         0.0       zach    waters             2  \n",
       "5542         3         NaN         NaN       zach    waters             2  \n",
       "5543         3         NaN         NaN       zach    waters             2  \n",
       "\n",
       "[5544 rows x 12 columns]"
      ]
     },
     "execution_count": 22,
     "metadata": {},
     "output_type": "execute_result"
    }
   ],
   "source": [
    "data"
   ]
  },
  {
   "cell_type": "code",
   "execution_count": 25,
   "metadata": {},
   "outputs": [],
   "source": [
    "# Analytes detected by the first waters\n",
    "waters_set_1 = set(data[(pd.notnull(data.value)) & (data.machine == \"waters\") & (data.replicate_id == 1)].metabolite)"
   ]
  },
  {
   "cell_type": "code",
   "execution_count": 29,
   "metadata": {},
   "outputs": [
    {
     "data": {
      "text/plain": [
       "28"
      ]
     },
     "execution_count": 29,
     "metadata": {},
     "output_type": "execute_result"
    }
   ],
   "source": [
    "len(waters_set_1)"
   ]
  },
  {
   "cell_type": "code",
   "execution_count": 27,
   "metadata": {},
   "outputs": [],
   "source": [
    "# Analytes dtected by the second waters\n",
    "waters_set_2 = set(data[(pd.notnull(data.value)) & (data.machine == \"waters\") & (data.replicate_id == 2)].metabolite)"
   ]
  },
  {
   "cell_type": "code",
   "execution_count": 30,
   "metadata": {},
   "outputs": [
    {
     "data": {
      "text/plain": [
       "26"
      ]
     },
     "execution_count": 30,
     "metadata": {},
     "output_type": "execute_result"
    }
   ],
   "source": [
    "len(waters_set_2)"
   ]
  },
  {
   "cell_type": "code",
   "execution_count": 32,
   "metadata": {},
   "outputs": [
    {
     "data": {
      "text/plain": [
       "22"
      ]
     },
     "execution_count": 32,
     "metadata": {},
     "output_type": "execute_result"
    }
   ],
   "source": [
    "len(shimadzu_set)"
   ]
  },
  {
   "cell_type": "code",
   "execution_count": 35,
   "metadata": {},
   "outputs": [
    {
     "data": {
      "text/plain": [
       "25"
      ]
     },
     "execution_count": 35,
     "metadata": {},
     "output_type": "execute_result"
    }
   ],
   "source": [
    "len(waters_set_1.intersection(waters_set_2))"
   ]
  },
  {
   "cell_type": "markdown",
   "metadata": {},
   "source": [
    "#### Display analytes detected by shimadzu"
   ]
  },
  {
   "cell_type": "code",
   "execution_count": 36,
   "metadata": {},
   "outputs": [
    {
     "data": {
      "text/plain": [
       "{'7-Aminoclonazepam',\n",
       " 'Amphetamine',\n",
       " 'Benzoylecgonine',\n",
       " 'Codeine',\n",
       " 'EDDP',\n",
       " 'Hydrocodone',\n",
       " 'Hydromorphone',\n",
       " 'Ketamine',\n",
       " 'MDMA',\n",
       " 'Meprobamate',\n",
       " 'Methadone',\n",
       " 'Methamphetamine',\n",
       " 'Morphine',\n",
       " 'Norbuprenorphine',\n",
       " 'Norhydrocodone',\n",
       " 'Noroxycodone',\n",
       " 'Oxazepam',\n",
       " 'Oxycodone',\n",
       " 'Oxymorphone',\n",
       " 'Tapentadol',\n",
       " 'Temazepam',\n",
       " 'Tramadol'}"
      ]
     },
     "execution_count": 36,
     "metadata": {},
     "output_type": "execute_result"
    }
   ],
   "source": [
    "shimadzu_set"
   ]
  },
  {
   "cell_type": "markdown",
   "metadata": {},
   "source": [
    "#### Display analytes detected by the first waters instrument"
   ]
  },
  {
   "cell_type": "code",
   "execution_count": 38,
   "metadata": {},
   "outputs": [
    {
     "data": {
      "text/plain": [
       "{'7-Aminoclonazepam',\n",
       " 'Amphetamine',\n",
       " 'Benzoylecgonine',\n",
       " 'Cocaine',\n",
       " 'Codeine',\n",
       " 'Cyclobenzaprine',\n",
       " 'EDDP',\n",
       " 'Hydrocodone',\n",
       " 'Hydromorphone',\n",
       " 'Ketamine',\n",
       " 'MDMA',\n",
       " 'Methadone',\n",
       " 'Methamphetamine',\n",
       " 'Methylphenidate',\n",
       " 'Morphine',\n",
       " 'Norbuprenorphine',\n",
       " 'Norhydrocodone',\n",
       " 'Noroxycodone',\n",
       " 'O-Desmethyltramadol',\n",
       " 'Oxazepam',\n",
       " 'Oxycodone',\n",
       " 'Oxymorphone',\n",
       " 'Phentermine',\n",
       " 'Pseudoephedrine',\n",
       " 'Tapentadol',\n",
       " 'Temazepam',\n",
       " 'Tramadol',\n",
       " 'Trazodone'}"
      ]
     },
     "execution_count": 38,
     "metadata": {},
     "output_type": "execute_result"
    }
   ],
   "source": [
    "waters_set_1"
   ]
  },
  {
   "cell_type": "markdown",
   "metadata": {},
   "source": [
    "#### Display analytes detected by the second waters machine"
   ]
  },
  {
   "cell_type": "code",
   "execution_count": 37,
   "metadata": {},
   "outputs": [
    {
     "data": {
      "text/plain": [
       "{'7-Aminoclonazepam',\n",
       " 'Amphetamine',\n",
       " 'Benzoylecgonine',\n",
       " 'Cocaine',\n",
       " 'Codeine',\n",
       " 'Cyclobenzaprine',\n",
       " 'EDDP',\n",
       " 'Hydrocodone',\n",
       " 'Ketamine',\n",
       " 'MDMA',\n",
       " 'Meprobamate',\n",
       " 'Methadone',\n",
       " 'Methamphetamine',\n",
       " 'Methylphenidate',\n",
       " 'Morphine',\n",
       " 'Norhydrocodone',\n",
       " 'Noroxycodone',\n",
       " 'O-Desmethyltramadol',\n",
       " 'Oxycodone',\n",
       " 'Oxymorphone',\n",
       " 'Phentermine',\n",
       " 'Pseudoephedrine',\n",
       " 'Tapentadol',\n",
       " 'Temazepam',\n",
       " 'Tramadol',\n",
       " 'Trazodone'}"
      ]
     },
     "execution_count": 37,
     "metadata": {},
     "output_type": "execute_result"
    }
   ],
   "source": [
    "waters_set_2"
   ]
  },
  {
   "cell_type": "markdown",
   "metadata": {},
   "source": [
    "###### Venn diagram creation: http://bioinformatics.psb.ugent.be/webtools/Venn/"
   ]
  },
  {
   "cell_type": "markdown",
   "metadata": {},
   "source": [
    "## Analytes Grouping"
   ]
  },
  {
   "cell_type": "markdown",
   "metadata": {},
   "source": [
    "#### Add metabolite group"
   ]
  },
  {
   "cell_type": "code",
   "execution_count": 3,
   "metadata": {},
   "outputs": [
    {
     "data": {
      "text/html": [
       "<div>\n",
       "<style scoped>\n",
       "    .dataframe tbody tr th:only-of-type {\n",
       "        vertical-align: middle;\n",
       "    }\n",
       "\n",
       "    .dataframe tbody tr th {\n",
       "        vertical-align: top;\n",
       "    }\n",
       "\n",
       "    .dataframe thead th {\n",
       "        text-align: right;\n",
       "    }\n",
       "</style>\n",
       "<table border=\"1\" class=\"dataframe\">\n",
       "  <thead>\n",
       "    <tr style=\"text-align: right;\">\n",
       "      <th></th>\n",
       "      <th>metabolite</th>\n",
       "      <th>uloq</th>\n",
       "      <th>lloq</th>\n",
       "      <th>value</th>\n",
       "      <th>date</th>\n",
       "      <th>time_pretty</th>\n",
       "      <th>location</th>\n",
       "      <th>below_lloq</th>\n",
       "      <th>above_uloq</th>\n",
       "      <th>extraction</th>\n",
       "      <th>machine</th>\n",
       "    </tr>\n",
       "  </thead>\n",
       "  <tbody>\n",
       "    <tr>\n",
       "      <th>0</th>\n",
       "      <td>6-MAM</td>\n",
       "      <td>5.0</td>\n",
       "      <td>0.05</td>\n",
       "      <td>NaN</td>\n",
       "      <td>FB08SEP18</td>\n",
       "      <td>6:30</td>\n",
       "      <td>1</td>\n",
       "      <td>NaN</td>\n",
       "      <td>NaN</td>\n",
       "      <td>austin</td>\n",
       "      <td>shimadzu</td>\n",
       "    </tr>\n",
       "    <tr>\n",
       "      <th>1</th>\n",
       "      <td>7-Aminoclonazepam</td>\n",
       "      <td>5.0</td>\n",
       "      <td>0.05</td>\n",
       "      <td>0.134</td>\n",
       "      <td>FB08SEP18</td>\n",
       "      <td>6:30</td>\n",
       "      <td>1</td>\n",
       "      <td>0.0</td>\n",
       "      <td>0.0</td>\n",
       "      <td>austin</td>\n",
       "      <td>shimadzu</td>\n",
       "    </tr>\n",
       "    <tr>\n",
       "      <th>2</th>\n",
       "      <td>7-Aminoflunitrazepam</td>\n",
       "      <td>5.0</td>\n",
       "      <td>0.05</td>\n",
       "      <td>NaN</td>\n",
       "      <td>FB08SEP18</td>\n",
       "      <td>6:30</td>\n",
       "      <td>1</td>\n",
       "      <td>NaN</td>\n",
       "      <td>NaN</td>\n",
       "      <td>austin</td>\n",
       "      <td>shimadzu</td>\n",
       "    </tr>\n",
       "    <tr>\n",
       "      <th>3</th>\n",
       "      <td>α-Hydroxyalprazolam</td>\n",
       "      <td>20.0</td>\n",
       "      <td>0.05</td>\n",
       "      <td>NaN</td>\n",
       "      <td>FB08SEP18</td>\n",
       "      <td>6:30</td>\n",
       "      <td>1</td>\n",
       "      <td>NaN</td>\n",
       "      <td>NaN</td>\n",
       "      <td>austin</td>\n",
       "      <td>shimadzu</td>\n",
       "    </tr>\n",
       "    <tr>\n",
       "      <th>4</th>\n",
       "      <td>α-Hydroxytriazolam</td>\n",
       "      <td>20.0</td>\n",
       "      <td>0.05</td>\n",
       "      <td>NaN</td>\n",
       "      <td>FB08SEP18</td>\n",
       "      <td>6:30</td>\n",
       "      <td>1</td>\n",
       "      <td>NaN</td>\n",
       "      <td>NaN</td>\n",
       "      <td>austin</td>\n",
       "      <td>shimadzu</td>\n",
       "    </tr>\n",
       "  </tbody>\n",
       "</table>\n",
       "</div>"
      ],
      "text/plain": [
       "             metabolite  uloq  lloq  value       date time_pretty  location  \\\n",
       "0                 6-MAM   5.0  0.05    NaN  FB08SEP18        6:30         1   \n",
       "1     7-Aminoclonazepam   5.0  0.05  0.134  FB08SEP18        6:30         1   \n",
       "2  7-Aminoflunitrazepam   5.0  0.05    NaN  FB08SEP18        6:30         1   \n",
       "3   α-Hydroxyalprazolam  20.0  0.05    NaN  FB08SEP18        6:30         1   \n",
       "4    α-Hydroxytriazolam  20.0  0.05    NaN  FB08SEP18        6:30         1   \n",
       "\n",
       "   below_lloq  above_uloq extraction   machine  \n",
       "0         NaN         NaN     austin  shimadzu  \n",
       "1         0.0         0.0     austin  shimadzu  \n",
       "2         NaN         NaN     austin  shimadzu  \n",
       "3         NaN         NaN     austin  shimadzu  \n",
       "4         NaN         NaN     austin  shimadzu  "
      ]
     },
     "execution_count": 3,
     "metadata": {},
     "output_type": "execute_result"
    }
   ],
   "source": [
    "data.head()"
   ]
  },
  {
   "cell_type": "code",
   "execution_count": 4,
   "metadata": {},
   "outputs": [],
   "source": [
    "grouping_info = pd.read_csv(\"../data/drug_class.csv\")"
   ]
  },
  {
   "cell_type": "code",
   "execution_count": 5,
   "metadata": {},
   "outputs": [
    {
     "data": {
      "text/html": [
       "<div>\n",
       "<style scoped>\n",
       "    .dataframe tbody tr th:only-of-type {\n",
       "        vertical-align: middle;\n",
       "    }\n",
       "\n",
       "    .dataframe tbody tr th {\n",
       "        vertical-align: top;\n",
       "    }\n",
       "\n",
       "    .dataframe thead th {\n",
       "        text-align: right;\n",
       "    }\n",
       "</style>\n",
       "<table border=\"1\" class=\"dataframe\">\n",
       "  <thead>\n",
       "    <tr style=\"text-align: right;\">\n",
       "      <th></th>\n",
       "      <th>drug</th>\n",
       "      <th>group</th>\n",
       "    </tr>\n",
       "  </thead>\n",
       "  <tbody>\n",
       "    <tr>\n",
       "      <th>0</th>\n",
       "      <td>6-MAM</td>\n",
       "      <td>Metabolite of Narcotic</td>\n",
       "    </tr>\n",
       "    <tr>\n",
       "      <th>1</th>\n",
       "      <td>Propoxyphene</td>\n",
       "      <td>Analgesic</td>\n",
       "    </tr>\n",
       "    <tr>\n",
       "      <th>2</th>\n",
       "      <td>Ketamine</td>\n",
       "      <td>Anesthetic</td>\n",
       "    </tr>\n",
       "    <tr>\n",
       "      <th>3</th>\n",
       "      <td>PCP</td>\n",
       "      <td>Anesthetic</td>\n",
       "    </tr>\n",
       "    <tr>\n",
       "      <th>4</th>\n",
       "      <td>Phentermine</td>\n",
       "      <td>Anorectic</td>\n",
       "    </tr>\n",
       "  </tbody>\n",
       "</table>\n",
       "</div>"
      ],
      "text/plain": [
       "           drug                   group\n",
       "0         6-MAM  Metabolite of Narcotic\n",
       "1  Propoxyphene               Analgesic\n",
       "2      Ketamine              Anesthetic\n",
       "3           PCP              Anesthetic\n",
       "4   Phentermine               Anorectic"
      ]
     },
     "execution_count": 5,
     "metadata": {},
     "output_type": "execute_result"
    }
   ],
   "source": [
    "grouping_info.head()"
   ]
  },
  {
   "cell_type": "code",
   "execution_count": 6,
   "metadata": {},
   "outputs": [
    {
     "data": {
      "text/plain": [
       "20"
      ]
     },
     "execution_count": 6,
     "metadata": {},
     "output_type": "execute_result"
    }
   ],
   "source": [
    "len(set(grouping_info.group))"
   ]
  },
  {
   "cell_type": "code",
   "execution_count": 7,
   "metadata": {},
   "outputs": [],
   "source": [
    "def add_group(row):\n",
    "#    print(grouping_info[grouping_info.drug==row.metabolite].group.iloc[0])\n",
    "    return grouping_info[grouping_info.drug==row.metabolite].group.iloc[0]"
   ]
  },
  {
   "cell_type": "code",
   "execution_count": 8,
   "metadata": {},
   "outputs": [],
   "source": [
    "data[\"metabolite_group\"] = data.apply(lambda row: add_group(row),axis=1)"
   ]
  },
  {
   "cell_type": "code",
   "execution_count": 9,
   "metadata": {},
   "outputs": [],
   "source": [
    "data[\"machine\"] = ([\"Shimadzu\"] * 56 + [\"Waters_SPE1\"] * 56 + [\"Waters_SPE2\"] * 56) * 33"
   ]
  },
  {
   "cell_type": "code",
   "execution_count": 10,
   "metadata": {},
   "outputs": [
    {
     "data": {
      "text/html": [
       "<div>\n",
       "<style scoped>\n",
       "    .dataframe tbody tr th:only-of-type {\n",
       "        vertical-align: middle;\n",
       "    }\n",
       "\n",
       "    .dataframe tbody tr th {\n",
       "        vertical-align: top;\n",
       "    }\n",
       "\n",
       "    .dataframe thead th {\n",
       "        text-align: right;\n",
       "    }\n",
       "</style>\n",
       "<table border=\"1\" class=\"dataframe\">\n",
       "  <thead>\n",
       "    <tr style=\"text-align: right;\">\n",
       "      <th></th>\n",
       "      <th>metabolite</th>\n",
       "      <th>uloq</th>\n",
       "      <th>lloq</th>\n",
       "      <th>value</th>\n",
       "      <th>date</th>\n",
       "      <th>time_pretty</th>\n",
       "      <th>location</th>\n",
       "      <th>below_lloq</th>\n",
       "      <th>above_uloq</th>\n",
       "      <th>extraction</th>\n",
       "      <th>machine</th>\n",
       "      <th>metabolite_group</th>\n",
       "    </tr>\n",
       "  </thead>\n",
       "  <tbody>\n",
       "    <tr>\n",
       "      <th>0</th>\n",
       "      <td>6-MAM</td>\n",
       "      <td>5.0</td>\n",
       "      <td>0.05</td>\n",
       "      <td>NaN</td>\n",
       "      <td>FB08SEP18</td>\n",
       "      <td>6:30</td>\n",
       "      <td>1</td>\n",
       "      <td>NaN</td>\n",
       "      <td>NaN</td>\n",
       "      <td>austin</td>\n",
       "      <td>Shimadzu</td>\n",
       "      <td>Metabolite of Narcotic</td>\n",
       "    </tr>\n",
       "    <tr>\n",
       "      <th>1</th>\n",
       "      <td>7-Aminoclonazepam</td>\n",
       "      <td>5.0</td>\n",
       "      <td>0.05</td>\n",
       "      <td>0.134</td>\n",
       "      <td>FB08SEP18</td>\n",
       "      <td>6:30</td>\n",
       "      <td>1</td>\n",
       "      <td>0.0</td>\n",
       "      <td>0.0</td>\n",
       "      <td>austin</td>\n",
       "      <td>Shimadzu</td>\n",
       "      <td>Benzodiazepine</td>\n",
       "    </tr>\n",
       "    <tr>\n",
       "      <th>2</th>\n",
       "      <td>7-Aminoflunitrazepam</td>\n",
       "      <td>5.0</td>\n",
       "      <td>0.05</td>\n",
       "      <td>NaN</td>\n",
       "      <td>FB08SEP18</td>\n",
       "      <td>6:30</td>\n",
       "      <td>1</td>\n",
       "      <td>NaN</td>\n",
       "      <td>NaN</td>\n",
       "      <td>austin</td>\n",
       "      <td>Shimadzu</td>\n",
       "      <td>Benzodiazepine</td>\n",
       "    </tr>\n",
       "    <tr>\n",
       "      <th>3</th>\n",
       "      <td>α-Hydroxyalprazolam</td>\n",
       "      <td>20.0</td>\n",
       "      <td>0.05</td>\n",
       "      <td>NaN</td>\n",
       "      <td>FB08SEP18</td>\n",
       "      <td>6:30</td>\n",
       "      <td>1</td>\n",
       "      <td>NaN</td>\n",
       "      <td>NaN</td>\n",
       "      <td>austin</td>\n",
       "      <td>Shimadzu</td>\n",
       "      <td>Metabolite of Benzodiazepam</td>\n",
       "    </tr>\n",
       "    <tr>\n",
       "      <th>4</th>\n",
       "      <td>α-Hydroxytriazolam</td>\n",
       "      <td>20.0</td>\n",
       "      <td>0.05</td>\n",
       "      <td>NaN</td>\n",
       "      <td>FB08SEP18</td>\n",
       "      <td>6:30</td>\n",
       "      <td>1</td>\n",
       "      <td>NaN</td>\n",
       "      <td>NaN</td>\n",
       "      <td>austin</td>\n",
       "      <td>Shimadzu</td>\n",
       "      <td>Metabolite of Benzodiazepam</td>\n",
       "    </tr>\n",
       "  </tbody>\n",
       "</table>\n",
       "</div>"
      ],
      "text/plain": [
       "             metabolite  uloq  lloq  value       date time_pretty  location  \\\n",
       "0                 6-MAM   5.0  0.05    NaN  FB08SEP18        6:30         1   \n",
       "1     7-Aminoclonazepam   5.0  0.05  0.134  FB08SEP18        6:30         1   \n",
       "2  7-Aminoflunitrazepam   5.0  0.05    NaN  FB08SEP18        6:30         1   \n",
       "3   α-Hydroxyalprazolam  20.0  0.05    NaN  FB08SEP18        6:30         1   \n",
       "4    α-Hydroxytriazolam  20.0  0.05    NaN  FB08SEP18        6:30         1   \n",
       "\n",
       "   below_lloq  above_uloq extraction   machine             metabolite_group  \n",
       "0         NaN         NaN     austin  Shimadzu       Metabolite of Narcotic  \n",
       "1         0.0         0.0     austin  Shimadzu               Benzodiazepine  \n",
       "2         NaN         NaN     austin  Shimadzu               Benzodiazepine  \n",
       "3         NaN         NaN     austin  Shimadzu  Metabolite of Benzodiazepam  \n",
       "4         NaN         NaN     austin  Shimadzu  Metabolite of Benzodiazepam  "
      ]
     },
     "execution_count": 10,
     "metadata": {},
     "output_type": "execute_result"
    }
   ],
   "source": [
    "data.head()"
   ]
  },
  {
   "cell_type": "code",
   "execution_count": 11,
   "metadata": {},
   "outputs": [],
   "source": [
    "data.sort_values(by=[\"time_pretty\", \"location\", \"machine\", \"metabolite_group\"], inplace=True)"
   ]
  },
  {
   "cell_type": "code",
   "execution_count": 12,
   "metadata": {},
   "outputs": [],
   "source": [
    "data.to_csv(\"../data/water_cleaned_group_sorted.txt\", index=False, sep=\"\\t\")"
   ]
  },
  {
   "cell_type": "markdown",
   "metadata": {},
   "source": [
    "#### Use mettabolite group instead of metabolite and deduplicate"
   ]
  },
  {
   "cell_type": "code",
   "execution_count": null,
   "metadata": {},
   "outputs": [],
   "source": [
    "data = pd.read_csv(\"../data/water_cleaned.txt\", delimiter=\"\\t\")"
   ]
  },
  {
   "cell_type": "code",
   "execution_count": 82,
   "metadata": {},
   "outputs": [],
   "source": [
    "data['metabolite'] = data.apply(lambda row: add_group(row),axis=1)"
   ]
  },
  {
   "cell_type": "code",
   "execution_count": 130,
   "metadata": {},
   "outputs": [
    {
     "data": {
      "text/html": [
       "<div>\n",
       "<style scoped>\n",
       "    .dataframe tbody tr th:only-of-type {\n",
       "        vertical-align: middle;\n",
       "    }\n",
       "\n",
       "    .dataframe tbody tr th {\n",
       "        vertical-align: top;\n",
       "    }\n",
       "\n",
       "    .dataframe thead th {\n",
       "        text-align: right;\n",
       "    }\n",
       "</style>\n",
       "<table border=\"1\" class=\"dataframe\">\n",
       "  <thead>\n",
       "    <tr style=\"text-align: right;\">\n",
       "      <th></th>\n",
       "      <th>metabolite</th>\n",
       "      <th>uloq</th>\n",
       "      <th>lloq</th>\n",
       "      <th>value</th>\n",
       "      <th>date</th>\n",
       "      <th>time_pretty</th>\n",
       "      <th>location</th>\n",
       "      <th>below_lloq</th>\n",
       "      <th>above_uloq</th>\n",
       "      <th>extraction</th>\n",
       "      <th>machine</th>\n",
       "    </tr>\n",
       "  </thead>\n",
       "  <tbody>\n",
       "    <tr>\n",
       "      <th>0</th>\n",
       "      <td>Metabolite of a Narcotic</td>\n",
       "      <td>5.0</td>\n",
       "      <td>0.05</td>\n",
       "      <td>NaN</td>\n",
       "      <td>FB08SEP18</td>\n",
       "      <td>6:30</td>\n",
       "      <td>1</td>\n",
       "      <td>NaN</td>\n",
       "      <td>NaN</td>\n",
       "      <td>austin</td>\n",
       "      <td>Shimadzu</td>\n",
       "    </tr>\n",
       "    <tr>\n",
       "      <th>1</th>\n",
       "      <td>Benzodiazepine</td>\n",
       "      <td>5.0</td>\n",
       "      <td>0.05</td>\n",
       "      <td>0.134</td>\n",
       "      <td>FB08SEP18</td>\n",
       "      <td>6:30</td>\n",
       "      <td>1</td>\n",
       "      <td>0.0</td>\n",
       "      <td>0.0</td>\n",
       "      <td>austin</td>\n",
       "      <td>Shimadzu</td>\n",
       "    </tr>\n",
       "    <tr>\n",
       "      <th>2</th>\n",
       "      <td>Benzodiazepine</td>\n",
       "      <td>5.0</td>\n",
       "      <td>0.05</td>\n",
       "      <td>NaN</td>\n",
       "      <td>FB08SEP18</td>\n",
       "      <td>6:30</td>\n",
       "      <td>1</td>\n",
       "      <td>NaN</td>\n",
       "      <td>NaN</td>\n",
       "      <td>austin</td>\n",
       "      <td>Shimadzu</td>\n",
       "    </tr>\n",
       "    <tr>\n",
       "      <th>3</th>\n",
       "      <td>Metabolite of Benzodiazepam</td>\n",
       "      <td>20.0</td>\n",
       "      <td>0.05</td>\n",
       "      <td>NaN</td>\n",
       "      <td>FB08SEP18</td>\n",
       "      <td>6:30</td>\n",
       "      <td>1</td>\n",
       "      <td>NaN</td>\n",
       "      <td>NaN</td>\n",
       "      <td>austin</td>\n",
       "      <td>Shimadzu</td>\n",
       "    </tr>\n",
       "    <tr>\n",
       "      <th>4</th>\n",
       "      <td>Metabolite of Benzodiazepam</td>\n",
       "      <td>20.0</td>\n",
       "      <td>0.05</td>\n",
       "      <td>NaN</td>\n",
       "      <td>FB08SEP18</td>\n",
       "      <td>6:30</td>\n",
       "      <td>1</td>\n",
       "      <td>NaN</td>\n",
       "      <td>NaN</td>\n",
       "      <td>austin</td>\n",
       "      <td>Shimadzu</td>\n",
       "    </tr>\n",
       "  </tbody>\n",
       "</table>\n",
       "</div>"
      ],
      "text/plain": [
       "                    metabolite  uloq  lloq  value       date time_pretty  \\\n",
       "0     Metabolite of a Narcotic   5.0  0.05    NaN  FB08SEP18        6:30   \n",
       "1               Benzodiazepine   5.0  0.05  0.134  FB08SEP18        6:30   \n",
       "2               Benzodiazepine   5.0  0.05    NaN  FB08SEP18        6:30   \n",
       "3  Metabolite of Benzodiazepam  20.0  0.05    NaN  FB08SEP18        6:30   \n",
       "4  Metabolite of Benzodiazepam  20.0  0.05    NaN  FB08SEP18        6:30   \n",
       "\n",
       "   location  below_lloq  above_uloq extraction   machine  \n",
       "0         1         NaN         NaN     austin  Shimadzu  \n",
       "1         1         0.0         0.0     austin  Shimadzu  \n",
       "2         1         NaN         NaN     austin  Shimadzu  \n",
       "3         1         NaN         NaN     austin  Shimadzu  \n",
       "4         1         NaN         NaN     austin  Shimadzu  "
      ]
     },
     "execution_count": 130,
     "metadata": {},
     "output_type": "execute_result"
    }
   ],
   "source": [
    "data.head()"
   ]
  },
  {
   "cell_type": "markdown",
   "metadata": {},
   "source": [
    "Algorithm: \n",
    "-   Create dataframe A by selecting rows with non-missing value in \"value\" column, then drop duplicates with columns of \"metabolite\", \"time_pretty\", \"machine\" and \"location\"; \n",
    "-   Create dataframe B by selecting rows with missing value in \"value\" column, then drop duplicates with columns of \"metabolite\", \"time_pretty\", \"machine\" and \"location\";\n",
    "-   Append B to A, then then drop duplicates with columns of \"metabolite\", \"time_pretty\", \"machine\" and \"location\", keep the first duplicated row."
   ]
  },
  {
   "cell_type": "code",
   "execution_count": 134,
   "metadata": {},
   "outputs": [],
   "source": [
    "data_with_value = data[data.value.notnull()]"
   ]
  },
  {
   "cell_type": "code",
   "execution_count": 135,
   "metadata": {},
   "outputs": [
    {
     "data": {
      "text/plain": [
       "(856, 11)"
      ]
     },
     "execution_count": 135,
     "metadata": {},
     "output_type": "execute_result"
    }
   ],
   "source": [
    "data_with_value.shape"
   ]
  },
  {
   "cell_type": "code",
   "execution_count": 136,
   "metadata": {},
   "outputs": [
    {
     "name": "stderr",
     "output_type": "stream",
     "text": [
      "/Users/xinsongdu/.pyenv/versions/miniconda3-latest/lib/python3.7/site-packages/ipykernel_launcher.py:1: SettingWithCopyWarning: \n",
      "A value is trying to be set on a copy of a slice from a DataFrame\n",
      "\n",
      "See the caveats in the documentation: https://pandas.pydata.org/pandas-docs/stable/user_guide/indexing.html#returning-a-view-versus-a-copy\n",
      "  \"\"\"Entry point for launching an IPython kernel.\n"
     ]
    }
   ],
   "source": [
    "data_with_value.drop_duplicates(subset=[\"metabolite\", \"time_pretty\", \"machine\", \"location\"], inplace=True)"
   ]
  },
  {
   "cell_type": "code",
   "execution_count": 137,
   "metadata": {},
   "outputs": [
    {
     "data": {
      "text/plain": [
       "(692, 11)"
      ]
     },
     "execution_count": 137,
     "metadata": {},
     "output_type": "execute_result"
    }
   ],
   "source": [
    "data_with_value.shape"
   ]
  },
  {
   "cell_type": "code",
   "execution_count": 138,
   "metadata": {},
   "outputs": [],
   "source": [
    "data_no_value = data[data.value.isnull()]"
   ]
  },
  {
   "cell_type": "code",
   "execution_count": 139,
   "metadata": {},
   "outputs": [
    {
     "data": {
      "text/plain": [
       "(4688, 11)"
      ]
     },
     "execution_count": 139,
     "metadata": {},
     "output_type": "execute_result"
    }
   ],
   "source": [
    "data_no_value.shape"
   ]
  },
  {
   "cell_type": "code",
   "execution_count": 140,
   "metadata": {},
   "outputs": [
    {
     "name": "stderr",
     "output_type": "stream",
     "text": [
      "/Users/xinsongdu/.pyenv/versions/miniconda3-latest/lib/python3.7/site-packages/ipykernel_launcher.py:1: SettingWithCopyWarning: \n",
      "A value is trying to be set on a copy of a slice from a DataFrame\n",
      "\n",
      "See the caveats in the documentation: https://pandas.pydata.org/pandas-docs/stable/user_guide/indexing.html#returning-a-view-versus-a-copy\n",
      "  \"\"\"Entry point for launching an IPython kernel.\n"
     ]
    }
   ],
   "source": [
    "data_no_value.drop_duplicates(subset=[\"metabolite\", \"time_pretty\", \"machine\", \"location\"], inplace=True)"
   ]
  },
  {
   "cell_type": "code",
   "execution_count": 141,
   "metadata": {},
   "outputs": [
    {
     "data": {
      "text/plain": [
       "(1949, 11)"
      ]
     },
     "execution_count": 141,
     "metadata": {},
     "output_type": "execute_result"
    }
   ],
   "source": [
    "data_no_value.shape"
   ]
  },
  {
   "cell_type": "code",
   "execution_count": 142,
   "metadata": {},
   "outputs": [],
   "source": [
    "data_modified = data_with_value.append(data_no_value)"
   ]
  },
  {
   "cell_type": "code",
   "execution_count": 147,
   "metadata": {},
   "outputs": [
    {
     "data": {
      "text/html": [
       "<div>\n",
       "<style scoped>\n",
       "    .dataframe tbody tr th:only-of-type {\n",
       "        vertical-align: middle;\n",
       "    }\n",
       "\n",
       "    .dataframe tbody tr th {\n",
       "        vertical-align: top;\n",
       "    }\n",
       "\n",
       "    .dataframe thead th {\n",
       "        text-align: right;\n",
       "    }\n",
       "</style>\n",
       "<table border=\"1\" class=\"dataframe\">\n",
       "  <thead>\n",
       "    <tr style=\"text-align: right;\">\n",
       "      <th></th>\n",
       "      <th>metabolite</th>\n",
       "      <th>uloq</th>\n",
       "      <th>lloq</th>\n",
       "      <th>value</th>\n",
       "      <th>date</th>\n",
       "      <th>time_pretty</th>\n",
       "      <th>location</th>\n",
       "      <th>below_lloq</th>\n",
       "      <th>above_uloq</th>\n",
       "      <th>extraction</th>\n",
       "      <th>machine</th>\n",
       "    </tr>\n",
       "  </thead>\n",
       "  <tbody>\n",
       "    <tr>\n",
       "      <th>1</th>\n",
       "      <td>Benzodiazepine</td>\n",
       "      <td>5.0</td>\n",
       "      <td>0.05</td>\n",
       "      <td>0.134</td>\n",
       "      <td>FB08SEP18</td>\n",
       "      <td>6:30</td>\n",
       "      <td>1</td>\n",
       "      <td>0.0</td>\n",
       "      <td>0.0</td>\n",
       "      <td>austin</td>\n",
       "      <td>Shimadzu</td>\n",
       "    </tr>\n",
       "    <tr>\n",
       "      <th>6</th>\n",
       "      <td>Stimulant</td>\n",
       "      <td>5.0</td>\n",
       "      <td>0.05</td>\n",
       "      <td>0.322</td>\n",
       "      <td>FB08SEP18</td>\n",
       "      <td>6:30</td>\n",
       "      <td>1</td>\n",
       "      <td>0.0</td>\n",
       "      <td>0.0</td>\n",
       "      <td>austin</td>\n",
       "      <td>Shimadzu</td>\n",
       "    </tr>\n",
       "    <tr>\n",
       "      <th>7</th>\n",
       "      <td>Metabolite of CNS stimulant</td>\n",
       "      <td>20.0</td>\n",
       "      <td>0.05</td>\n",
       "      <td>1.307</td>\n",
       "      <td>FB08SEP18</td>\n",
       "      <td>6:30</td>\n",
       "      <td>1</td>\n",
       "      <td>0.0</td>\n",
       "      <td>0.0</td>\n",
       "      <td>austin</td>\n",
       "      <td>Shimadzu</td>\n",
       "    </tr>\n",
       "    <tr>\n",
       "      <th>20</th>\n",
       "      <td>Opioid</td>\n",
       "      <td>2.5</td>\n",
       "      <td>0.05</td>\n",
       "      <td>0.368</td>\n",
       "      <td>FB08SEP18</td>\n",
       "      <td>6:30</td>\n",
       "      <td>1</td>\n",
       "      <td>0.0</td>\n",
       "      <td>0.0</td>\n",
       "      <td>austin</td>\n",
       "      <td>Shimadzu</td>\n",
       "    </tr>\n",
       "    <tr>\n",
       "      <th>38</th>\n",
       "      <td>Metabolite of opioid</td>\n",
       "      <td>5.0</td>\n",
       "      <td>0.05</td>\n",
       "      <td>0.231</td>\n",
       "      <td>FB08SEP18</td>\n",
       "      <td>6:30</td>\n",
       "      <td>1</td>\n",
       "      <td>0.0</td>\n",
       "      <td>0.0</td>\n",
       "      <td>austin</td>\n",
       "      <td>Shimadzu</td>\n",
       "    </tr>\n",
       "  </tbody>\n",
       "</table>\n",
       "</div>"
      ],
      "text/plain": [
       "                     metabolite  uloq  lloq  value       date time_pretty  \\\n",
       "1                Benzodiazepine   5.0  0.05  0.134  FB08SEP18        6:30   \n",
       "6                     Stimulant   5.0  0.05  0.322  FB08SEP18        6:30   \n",
       "7   Metabolite of CNS stimulant  20.0  0.05  1.307  FB08SEP18        6:30   \n",
       "20                       Opioid   2.5  0.05  0.368  FB08SEP18        6:30   \n",
       "38         Metabolite of opioid   5.0  0.05  0.231  FB08SEP18        6:30   \n",
       "\n",
       "    location  below_lloq  above_uloq extraction   machine  \n",
       "1          1         0.0         0.0     austin  Shimadzu  \n",
       "6          1         0.0         0.0     austin  Shimadzu  \n",
       "7          1         0.0         0.0     austin  Shimadzu  \n",
       "20         1         0.0         0.0     austin  Shimadzu  \n",
       "38         1         0.0         0.0     austin  Shimadzu  "
      ]
     },
     "execution_count": 147,
     "metadata": {},
     "output_type": "execute_result"
    }
   ],
   "source": [
    "data_modified.head()"
   ]
  },
  {
   "cell_type": "code",
   "execution_count": 144,
   "metadata": {},
   "outputs": [],
   "source": [
    "data_grouped = data_modified.drop_duplicates(subset=[\"metabolite\", \"time_pretty\", \"machine\", \"location\"], keep=\"first\")"
   ]
  },
  {
   "cell_type": "code",
   "execution_count": 145,
   "metadata": {},
   "outputs": [
    {
     "data": {
      "text/plain": [
       "(2277, 11)"
      ]
     },
     "execution_count": 145,
     "metadata": {},
     "output_type": "execute_result"
    }
   ],
   "source": [
    "data_grouped.shape"
   ]
  },
  {
   "cell_type": "code",
   "execution_count": 150,
   "metadata": {},
   "outputs": [
    {
     "name": "stderr",
     "output_type": "stream",
     "text": [
      "/Users/xinsongdu/.pyenv/versions/miniconda3-latest/lib/python3.7/site-packages/ipykernel_launcher.py:1: SettingWithCopyWarning: \n",
      "A value is trying to be set on a copy of a slice from a DataFrame\n",
      "\n",
      "See the caveats in the documentation: https://pandas.pydata.org/pandas-docs/stable/user_guide/indexing.html#returning-a-view-versus-a-copy\n",
      "  \"\"\"Entry point for launching an IPython kernel.\n"
     ]
    }
   ],
   "source": [
    "data_grouped.sort_values(by=[\"time_pretty\", \"machine\", \"location\", \"metabolite\"], inplace=True)"
   ]
  },
  {
   "cell_type": "code",
   "execution_count": 151,
   "metadata": {},
   "outputs": [],
   "source": [
    "data_grouped.to_csv(\"../data/water_cleaned_grouped.txt\", index=False, sep=\"\\t\")"
   ]
  }
 ],
 "metadata": {
  "kernelspec": {
   "display_name": "Python 3",
   "language": "python",
   "name": "python3"
  },
  "language_info": {
   "codemirror_mode": {
    "name": "ipython",
    "version": 3
   },
   "file_extension": ".py",
   "mimetype": "text/x-python",
   "name": "python",
   "nbconvert_exporter": "python",
   "pygments_lexer": "ipython3",
   "version": "3.7.7"
  }
 },
 "nbformat": 4,
 "nbformat_minor": 4
}
